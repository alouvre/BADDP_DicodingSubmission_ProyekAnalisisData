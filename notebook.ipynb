{
  "cells": [
    {
      "cell_type": "markdown",
      "metadata": {
        "id": "H9wADwK78DCz"
      },
      "source": [
        "# Proyek Analisis Data: Bike Sharing\n",
        "- **Nama:** Alifia Mustika Sari\n",
        "- **Email:** alifiamustika02@gmail.com\n",
        "- **ID Dicoding:** a463xbf048"
      ]
    },
    {
      "cell_type": "markdown",
      "metadata": {
        "id": "eE0raob58DC0"
      },
      "source": [
        "## 1. Menentukan Pertanyaan Bisnis (FIX)"
      ]
    },
    {
      "cell_type": "markdown",
      "metadata": {
        "id": "GmQeQ5YF8DC0"
      },
      "source": [
        "Pertama-tama, kita akan mendefinisikan berbagai pertanyaan bisnis yang akan dibutuhkan saat eksplorasi data.\n",
        "- `Pertanyaan 1:` Bagaimana Tren Jumlah Penggunaan Layanan Bike-Sharing dalam Beberapa Tahun Terakhir? (DONE)\n",
        "- `Pertanyaan 2:` Apakah Peningkatan Penggunaan Layanan Bike-Sharing Berasal dari Pengguna Registered atau Casual? (FIX)\n",
        "- `Pertanyaan 3:` Bagaimana Pola Penggunaan Layanan Bike-Sharing Berdasarkan Waktu Dalam Sehari? (DONE)\n",
        "- `Pertanyaan 4:` Seberapa Berpengaruh Musim Terhadap Peningkatan Jumlah Penggunaan Layanan Bike-Sharing? (DONE)"
      ]
    },
    {
      "cell_type": "markdown",
      "metadata": {
        "id": "H-z4QGlO8DC1"
      },
      "source": [
        "## 2. Import Semua Packages/Library yang Digunakan"
      ]
    },
    {
      "cell_type": "code",
      "execution_count": 215,
      "metadata": {
        "id": "FVYwaObI8DC1"
      },
      "outputs": [],
      "source": [
        "import pandas as pd\n",
        "import numpy as np\n",
        "import matplotlib.pyplot as plt\n",
        "import seaborn as sns\n",
        "import plotly.express as px"
      ]
    },
    {
      "cell_type": "markdown",
      "metadata": {
        "id": "h_Sh51Xy8DC1"
      },
      "source": [
        "## 3. Data Wrangling"
      ]
    },
    {
      "cell_type": "markdown",
      "metadata": {
        "id": "sXU2GBYu8DC1"
      },
      "source": [
        "### 3.1. Gathering Data"
      ]
    },
    {
      "cell_type": "code",
      "execution_count": 216,
      "metadata": {},
      "outputs": [
        {
          "data": {
            "text/html": [
              "<div>\n",
              "<style scoped>\n",
              "    .dataframe tbody tr th:only-of-type {\n",
              "        vertical-align: middle;\n",
              "    }\n",
              "\n",
              "    .dataframe tbody tr th {\n",
              "        vertical-align: top;\n",
              "    }\n",
              "\n",
              "    .dataframe thead th {\n",
              "        text-align: right;\n",
              "    }\n",
              "</style>\n",
              "<table border=\"1\" class=\"dataframe\">\n",
              "  <thead>\n",
              "    <tr style=\"text-align: right;\">\n",
              "      <th></th>\n",
              "      <th>instant</th>\n",
              "      <th>dteday</th>\n",
              "      <th>season</th>\n",
              "      <th>yr</th>\n",
              "      <th>mnth</th>\n",
              "      <th>holiday</th>\n",
              "      <th>weekday</th>\n",
              "      <th>workingday</th>\n",
              "      <th>weathersit</th>\n",
              "      <th>temp</th>\n",
              "      <th>atemp</th>\n",
              "      <th>hum</th>\n",
              "      <th>windspeed</th>\n",
              "      <th>casual</th>\n",
              "      <th>registered</th>\n",
              "      <th>cnt</th>\n",
              "    </tr>\n",
              "  </thead>\n",
              "  <tbody>\n",
              "    <tr>\n",
              "      <th>0</th>\n",
              "      <td>1</td>\n",
              "      <td>2011-01-01</td>\n",
              "      <td>1</td>\n",
              "      <td>0</td>\n",
              "      <td>1</td>\n",
              "      <td>0</td>\n",
              "      <td>6</td>\n",
              "      <td>0</td>\n",
              "      <td>2</td>\n",
              "      <td>0.344167</td>\n",
              "      <td>0.363625</td>\n",
              "      <td>0.805833</td>\n",
              "      <td>0.160446</td>\n",
              "      <td>331</td>\n",
              "      <td>654</td>\n",
              "      <td>985</td>\n",
              "    </tr>\n",
              "    <tr>\n",
              "      <th>1</th>\n",
              "      <td>2</td>\n",
              "      <td>2011-01-02</td>\n",
              "      <td>1</td>\n",
              "      <td>0</td>\n",
              "      <td>1</td>\n",
              "      <td>0</td>\n",
              "      <td>0</td>\n",
              "      <td>0</td>\n",
              "      <td>2</td>\n",
              "      <td>0.363478</td>\n",
              "      <td>0.353739</td>\n",
              "      <td>0.696087</td>\n",
              "      <td>0.248539</td>\n",
              "      <td>131</td>\n",
              "      <td>670</td>\n",
              "      <td>801</td>\n",
              "    </tr>\n",
              "    <tr>\n",
              "      <th>2</th>\n",
              "      <td>3</td>\n",
              "      <td>2011-01-03</td>\n",
              "      <td>1</td>\n",
              "      <td>0</td>\n",
              "      <td>1</td>\n",
              "      <td>0</td>\n",
              "      <td>1</td>\n",
              "      <td>1</td>\n",
              "      <td>1</td>\n",
              "      <td>0.196364</td>\n",
              "      <td>0.189405</td>\n",
              "      <td>0.437273</td>\n",
              "      <td>0.248309</td>\n",
              "      <td>120</td>\n",
              "      <td>1229</td>\n",
              "      <td>1349</td>\n",
              "    </tr>\n",
              "    <tr>\n",
              "      <th>3</th>\n",
              "      <td>4</td>\n",
              "      <td>2011-01-04</td>\n",
              "      <td>1</td>\n",
              "      <td>0</td>\n",
              "      <td>1</td>\n",
              "      <td>0</td>\n",
              "      <td>2</td>\n",
              "      <td>1</td>\n",
              "      <td>1</td>\n",
              "      <td>0.200000</td>\n",
              "      <td>0.212122</td>\n",
              "      <td>0.590435</td>\n",
              "      <td>0.160296</td>\n",
              "      <td>108</td>\n",
              "      <td>1454</td>\n",
              "      <td>1562</td>\n",
              "    </tr>\n",
              "    <tr>\n",
              "      <th>4</th>\n",
              "      <td>5</td>\n",
              "      <td>2011-01-05</td>\n",
              "      <td>1</td>\n",
              "      <td>0</td>\n",
              "      <td>1</td>\n",
              "      <td>0</td>\n",
              "      <td>3</td>\n",
              "      <td>1</td>\n",
              "      <td>1</td>\n",
              "      <td>0.226957</td>\n",
              "      <td>0.229270</td>\n",
              "      <td>0.436957</td>\n",
              "      <td>0.186900</td>\n",
              "      <td>82</td>\n",
              "      <td>1518</td>\n",
              "      <td>1600</td>\n",
              "    </tr>\n",
              "  </tbody>\n",
              "</table>\n",
              "</div>"
            ],
            "text/plain": [
              "   instant      dteday  season  yr  mnth  holiday  weekday  workingday  \\\n",
              "0        1  2011-01-01       1   0     1        0        6           0   \n",
              "1        2  2011-01-02       1   0     1        0        0           0   \n",
              "2        3  2011-01-03       1   0     1        0        1           1   \n",
              "3        4  2011-01-04       1   0     1        0        2           1   \n",
              "4        5  2011-01-05       1   0     1        0        3           1   \n",
              "\n",
              "   weathersit      temp     atemp       hum  windspeed  casual  registered  \\\n",
              "0           2  0.344167  0.363625  0.805833   0.160446     331         654   \n",
              "1           2  0.363478  0.353739  0.696087   0.248539     131         670   \n",
              "2           1  0.196364  0.189405  0.437273   0.248309     120        1229   \n",
              "3           1  0.200000  0.212122  0.590435   0.160296     108        1454   \n",
              "4           1  0.226957  0.229270  0.436957   0.186900      82        1518   \n",
              "\n",
              "    cnt  \n",
              "0   985  \n",
              "1   801  \n",
              "2  1349  \n",
              "3  1562  \n",
              "4  1600  "
            ]
          },
          "execution_count": 216,
          "metadata": {},
          "output_type": "execute_result"
        }
      ],
      "source": [
        "# Memuat data day\n",
        "df_day = pd.read_csv(r'data\\day.csv')\n",
        "df_day.head()"
      ]
    },
    {
      "cell_type": "code",
      "execution_count": 217,
      "metadata": {},
      "outputs": [
        {
          "data": {
            "text/html": [
              "<div>\n",
              "<style scoped>\n",
              "    .dataframe tbody tr th:only-of-type {\n",
              "        vertical-align: middle;\n",
              "    }\n",
              "\n",
              "    .dataframe tbody tr th {\n",
              "        vertical-align: top;\n",
              "    }\n",
              "\n",
              "    .dataframe thead th {\n",
              "        text-align: right;\n",
              "    }\n",
              "</style>\n",
              "<table border=\"1\" class=\"dataframe\">\n",
              "  <thead>\n",
              "    <tr style=\"text-align: right;\">\n",
              "      <th></th>\n",
              "      <th>instant</th>\n",
              "      <th>dteday</th>\n",
              "      <th>season</th>\n",
              "      <th>yr</th>\n",
              "      <th>mnth</th>\n",
              "      <th>hr</th>\n",
              "      <th>holiday</th>\n",
              "      <th>weekday</th>\n",
              "      <th>workingday</th>\n",
              "      <th>weathersit</th>\n",
              "      <th>temp</th>\n",
              "      <th>atemp</th>\n",
              "      <th>hum</th>\n",
              "      <th>windspeed</th>\n",
              "      <th>casual</th>\n",
              "      <th>registered</th>\n",
              "      <th>cnt</th>\n",
              "    </tr>\n",
              "  </thead>\n",
              "  <tbody>\n",
              "    <tr>\n",
              "      <th>0</th>\n",
              "      <td>1</td>\n",
              "      <td>2011-01-01</td>\n",
              "      <td>1</td>\n",
              "      <td>0</td>\n",
              "      <td>1</td>\n",
              "      <td>0</td>\n",
              "      <td>0</td>\n",
              "      <td>6</td>\n",
              "      <td>0</td>\n",
              "      <td>1</td>\n",
              "      <td>0.24</td>\n",
              "      <td>0.2879</td>\n",
              "      <td>0.81</td>\n",
              "      <td>0.0</td>\n",
              "      <td>3</td>\n",
              "      <td>13</td>\n",
              "      <td>16</td>\n",
              "    </tr>\n",
              "    <tr>\n",
              "      <th>1</th>\n",
              "      <td>2</td>\n",
              "      <td>2011-01-01</td>\n",
              "      <td>1</td>\n",
              "      <td>0</td>\n",
              "      <td>1</td>\n",
              "      <td>1</td>\n",
              "      <td>0</td>\n",
              "      <td>6</td>\n",
              "      <td>0</td>\n",
              "      <td>1</td>\n",
              "      <td>0.22</td>\n",
              "      <td>0.2727</td>\n",
              "      <td>0.80</td>\n",
              "      <td>0.0</td>\n",
              "      <td>8</td>\n",
              "      <td>32</td>\n",
              "      <td>40</td>\n",
              "    </tr>\n",
              "    <tr>\n",
              "      <th>2</th>\n",
              "      <td>3</td>\n",
              "      <td>2011-01-01</td>\n",
              "      <td>1</td>\n",
              "      <td>0</td>\n",
              "      <td>1</td>\n",
              "      <td>2</td>\n",
              "      <td>0</td>\n",
              "      <td>6</td>\n",
              "      <td>0</td>\n",
              "      <td>1</td>\n",
              "      <td>0.22</td>\n",
              "      <td>0.2727</td>\n",
              "      <td>0.80</td>\n",
              "      <td>0.0</td>\n",
              "      <td>5</td>\n",
              "      <td>27</td>\n",
              "      <td>32</td>\n",
              "    </tr>\n",
              "    <tr>\n",
              "      <th>3</th>\n",
              "      <td>4</td>\n",
              "      <td>2011-01-01</td>\n",
              "      <td>1</td>\n",
              "      <td>0</td>\n",
              "      <td>1</td>\n",
              "      <td>3</td>\n",
              "      <td>0</td>\n",
              "      <td>6</td>\n",
              "      <td>0</td>\n",
              "      <td>1</td>\n",
              "      <td>0.24</td>\n",
              "      <td>0.2879</td>\n",
              "      <td>0.75</td>\n",
              "      <td>0.0</td>\n",
              "      <td>3</td>\n",
              "      <td>10</td>\n",
              "      <td>13</td>\n",
              "    </tr>\n",
              "    <tr>\n",
              "      <th>4</th>\n",
              "      <td>5</td>\n",
              "      <td>2011-01-01</td>\n",
              "      <td>1</td>\n",
              "      <td>0</td>\n",
              "      <td>1</td>\n",
              "      <td>4</td>\n",
              "      <td>0</td>\n",
              "      <td>6</td>\n",
              "      <td>0</td>\n",
              "      <td>1</td>\n",
              "      <td>0.24</td>\n",
              "      <td>0.2879</td>\n",
              "      <td>0.75</td>\n",
              "      <td>0.0</td>\n",
              "      <td>0</td>\n",
              "      <td>1</td>\n",
              "      <td>1</td>\n",
              "    </tr>\n",
              "  </tbody>\n",
              "</table>\n",
              "</div>"
            ],
            "text/plain": [
              "   instant      dteday  season  yr  mnth  hr  holiday  weekday  workingday  \\\n",
              "0        1  2011-01-01       1   0     1   0        0        6           0   \n",
              "1        2  2011-01-01       1   0     1   1        0        6           0   \n",
              "2        3  2011-01-01       1   0     1   2        0        6           0   \n",
              "3        4  2011-01-01       1   0     1   3        0        6           0   \n",
              "4        5  2011-01-01       1   0     1   4        0        6           0   \n",
              "\n",
              "   weathersit  temp   atemp   hum  windspeed  casual  registered  cnt  \n",
              "0           1  0.24  0.2879  0.81        0.0       3          13   16  \n",
              "1           1  0.22  0.2727  0.80        0.0       8          32   40  \n",
              "2           1  0.22  0.2727  0.80        0.0       5          27   32  \n",
              "3           1  0.24  0.2879  0.75        0.0       3          10   13  \n",
              "4           1  0.24  0.2879  0.75        0.0       0           1    1  "
            ]
          },
          "execution_count": 217,
          "metadata": {},
          "output_type": "execute_result"
        }
      ],
      "source": [
        "# Memuat data hour\n",
        "df_hour = pd.read_csv(r'data\\hour.csv')\n",
        "df_hour.head()"
      ]
    },
    {
      "cell_type": "markdown",
      "metadata": {
        "id": "MMi6xGaDkbCi"
      },
      "source": [
        "**Insight:**\n",
        "- Data `df_day` lebih cocok untuk menganalisis tren jangka panjang, seperti pola mingguan, bulanan, musiman, atau tahunan, karena data sudah terakumulasi per hari.\n",
        "- Data `df_hour` lebih sesuai untuk melihat pola penggunaan sepeda pada jam tertentu dalam sehari, memungkinkan analisis terhadap waktu-waktu dengan tingkat penyewaan tertinggi atau terendah."
      ]
    },
    {
      "cell_type": "markdown",
      "metadata": {
        "id": "FHSiqaZp8DC1"
      },
      "source": [
        "### 3.2. Assessing Data (FIX)"
      ]
    },
    {
      "cell_type": "markdown",
      "metadata": {},
      "source": [
        "#### Menilai Data df_day (FIX)"
      ]
    },
    {
      "cell_type": "markdown",
      "metadata": {},
      "source": [
        "Memeriksa `seluruh parameter termasuk non-numerik` yang terdapat pada table `df_day`."
      ]
    },
    {
      "cell_type": "code",
      "execution_count": 218,
      "metadata": {
        "id": "ax-3tEjc9Cj1"
      },
      "outputs": [
        {
          "data": {
            "text/html": [
              "<div>\n",
              "<style scoped>\n",
              "    .dataframe tbody tr th:only-of-type {\n",
              "        vertical-align: middle;\n",
              "    }\n",
              "\n",
              "    .dataframe tbody tr th {\n",
              "        vertical-align: top;\n",
              "    }\n",
              "\n",
              "    .dataframe thead th {\n",
              "        text-align: right;\n",
              "    }\n",
              "</style>\n",
              "<table border=\"1\" class=\"dataframe\">\n",
              "  <thead>\n",
              "    <tr style=\"text-align: right;\">\n",
              "      <th></th>\n",
              "      <th>instant</th>\n",
              "      <th>dteday</th>\n",
              "      <th>season</th>\n",
              "      <th>yr</th>\n",
              "      <th>mnth</th>\n",
              "      <th>holiday</th>\n",
              "      <th>weekday</th>\n",
              "      <th>workingday</th>\n",
              "      <th>weathersit</th>\n",
              "      <th>temp</th>\n",
              "      <th>atemp</th>\n",
              "      <th>hum</th>\n",
              "      <th>windspeed</th>\n",
              "      <th>casual</th>\n",
              "      <th>registered</th>\n",
              "      <th>cnt</th>\n",
              "    </tr>\n",
              "  </thead>\n",
              "  <tbody>\n",
              "    <tr>\n",
              "      <th>count</th>\n",
              "      <td>731.000000</td>\n",
              "      <td>731</td>\n",
              "      <td>731.000000</td>\n",
              "      <td>731.000000</td>\n",
              "      <td>731.000000</td>\n",
              "      <td>731.000000</td>\n",
              "      <td>731.000000</td>\n",
              "      <td>731.000000</td>\n",
              "      <td>731.000000</td>\n",
              "      <td>731.000000</td>\n",
              "      <td>731.000000</td>\n",
              "      <td>731.000000</td>\n",
              "      <td>731.000000</td>\n",
              "      <td>731.000000</td>\n",
              "      <td>731.000000</td>\n",
              "      <td>731.000000</td>\n",
              "    </tr>\n",
              "    <tr>\n",
              "      <th>unique</th>\n",
              "      <td>NaN</td>\n",
              "      <td>731</td>\n",
              "      <td>NaN</td>\n",
              "      <td>NaN</td>\n",
              "      <td>NaN</td>\n",
              "      <td>NaN</td>\n",
              "      <td>NaN</td>\n",
              "      <td>NaN</td>\n",
              "      <td>NaN</td>\n",
              "      <td>NaN</td>\n",
              "      <td>NaN</td>\n",
              "      <td>NaN</td>\n",
              "      <td>NaN</td>\n",
              "      <td>NaN</td>\n",
              "      <td>NaN</td>\n",
              "      <td>NaN</td>\n",
              "    </tr>\n",
              "    <tr>\n",
              "      <th>top</th>\n",
              "      <td>NaN</td>\n",
              "      <td>2011-01-01</td>\n",
              "      <td>NaN</td>\n",
              "      <td>NaN</td>\n",
              "      <td>NaN</td>\n",
              "      <td>NaN</td>\n",
              "      <td>NaN</td>\n",
              "      <td>NaN</td>\n",
              "      <td>NaN</td>\n",
              "      <td>NaN</td>\n",
              "      <td>NaN</td>\n",
              "      <td>NaN</td>\n",
              "      <td>NaN</td>\n",
              "      <td>NaN</td>\n",
              "      <td>NaN</td>\n",
              "      <td>NaN</td>\n",
              "    </tr>\n",
              "    <tr>\n",
              "      <th>freq</th>\n",
              "      <td>NaN</td>\n",
              "      <td>1</td>\n",
              "      <td>NaN</td>\n",
              "      <td>NaN</td>\n",
              "      <td>NaN</td>\n",
              "      <td>NaN</td>\n",
              "      <td>NaN</td>\n",
              "      <td>NaN</td>\n",
              "      <td>NaN</td>\n",
              "      <td>NaN</td>\n",
              "      <td>NaN</td>\n",
              "      <td>NaN</td>\n",
              "      <td>NaN</td>\n",
              "      <td>NaN</td>\n",
              "      <td>NaN</td>\n",
              "      <td>NaN</td>\n",
              "    </tr>\n",
              "    <tr>\n",
              "      <th>mean</th>\n",
              "      <td>366.000000</td>\n",
              "      <td>NaN</td>\n",
              "      <td>2.496580</td>\n",
              "      <td>0.500684</td>\n",
              "      <td>6.519836</td>\n",
              "      <td>0.028728</td>\n",
              "      <td>2.997264</td>\n",
              "      <td>0.683995</td>\n",
              "      <td>1.395349</td>\n",
              "      <td>0.495385</td>\n",
              "      <td>0.474354</td>\n",
              "      <td>0.627894</td>\n",
              "      <td>0.190486</td>\n",
              "      <td>848.176471</td>\n",
              "      <td>3656.172367</td>\n",
              "      <td>4504.348837</td>\n",
              "    </tr>\n",
              "    <tr>\n",
              "      <th>std</th>\n",
              "      <td>211.165812</td>\n",
              "      <td>NaN</td>\n",
              "      <td>1.110807</td>\n",
              "      <td>0.500342</td>\n",
              "      <td>3.451913</td>\n",
              "      <td>0.167155</td>\n",
              "      <td>2.004787</td>\n",
              "      <td>0.465233</td>\n",
              "      <td>0.544894</td>\n",
              "      <td>0.183051</td>\n",
              "      <td>0.162961</td>\n",
              "      <td>0.142429</td>\n",
              "      <td>0.077498</td>\n",
              "      <td>686.622488</td>\n",
              "      <td>1560.256377</td>\n",
              "      <td>1937.211452</td>\n",
              "    </tr>\n",
              "    <tr>\n",
              "      <th>min</th>\n",
              "      <td>1.000000</td>\n",
              "      <td>NaN</td>\n",
              "      <td>1.000000</td>\n",
              "      <td>0.000000</td>\n",
              "      <td>1.000000</td>\n",
              "      <td>0.000000</td>\n",
              "      <td>0.000000</td>\n",
              "      <td>0.000000</td>\n",
              "      <td>1.000000</td>\n",
              "      <td>0.059130</td>\n",
              "      <td>0.079070</td>\n",
              "      <td>0.000000</td>\n",
              "      <td>0.022392</td>\n",
              "      <td>2.000000</td>\n",
              "      <td>20.000000</td>\n",
              "      <td>22.000000</td>\n",
              "    </tr>\n",
              "    <tr>\n",
              "      <th>25%</th>\n",
              "      <td>183.500000</td>\n",
              "      <td>NaN</td>\n",
              "      <td>2.000000</td>\n",
              "      <td>0.000000</td>\n",
              "      <td>4.000000</td>\n",
              "      <td>0.000000</td>\n",
              "      <td>1.000000</td>\n",
              "      <td>0.000000</td>\n",
              "      <td>1.000000</td>\n",
              "      <td>0.337083</td>\n",
              "      <td>0.337842</td>\n",
              "      <td>0.520000</td>\n",
              "      <td>0.134950</td>\n",
              "      <td>315.500000</td>\n",
              "      <td>2497.000000</td>\n",
              "      <td>3152.000000</td>\n",
              "    </tr>\n",
              "    <tr>\n",
              "      <th>50%</th>\n",
              "      <td>366.000000</td>\n",
              "      <td>NaN</td>\n",
              "      <td>3.000000</td>\n",
              "      <td>1.000000</td>\n",
              "      <td>7.000000</td>\n",
              "      <td>0.000000</td>\n",
              "      <td>3.000000</td>\n",
              "      <td>1.000000</td>\n",
              "      <td>1.000000</td>\n",
              "      <td>0.498333</td>\n",
              "      <td>0.486733</td>\n",
              "      <td>0.626667</td>\n",
              "      <td>0.180975</td>\n",
              "      <td>713.000000</td>\n",
              "      <td>3662.000000</td>\n",
              "      <td>4548.000000</td>\n",
              "    </tr>\n",
              "    <tr>\n",
              "      <th>75%</th>\n",
              "      <td>548.500000</td>\n",
              "      <td>NaN</td>\n",
              "      <td>3.000000</td>\n",
              "      <td>1.000000</td>\n",
              "      <td>10.000000</td>\n",
              "      <td>0.000000</td>\n",
              "      <td>5.000000</td>\n",
              "      <td>1.000000</td>\n",
              "      <td>2.000000</td>\n",
              "      <td>0.655417</td>\n",
              "      <td>0.608602</td>\n",
              "      <td>0.730209</td>\n",
              "      <td>0.233214</td>\n",
              "      <td>1096.000000</td>\n",
              "      <td>4776.500000</td>\n",
              "      <td>5956.000000</td>\n",
              "    </tr>\n",
              "    <tr>\n",
              "      <th>max</th>\n",
              "      <td>731.000000</td>\n",
              "      <td>NaN</td>\n",
              "      <td>4.000000</td>\n",
              "      <td>1.000000</td>\n",
              "      <td>12.000000</td>\n",
              "      <td>1.000000</td>\n",
              "      <td>6.000000</td>\n",
              "      <td>1.000000</td>\n",
              "      <td>3.000000</td>\n",
              "      <td>0.861667</td>\n",
              "      <td>0.840896</td>\n",
              "      <td>0.972500</td>\n",
              "      <td>0.507463</td>\n",
              "      <td>3410.000000</td>\n",
              "      <td>6946.000000</td>\n",
              "      <td>8714.000000</td>\n",
              "    </tr>\n",
              "  </tbody>\n",
              "</table>\n",
              "</div>"
            ],
            "text/plain": [
              "           instant      dteday      season          yr        mnth  \\\n",
              "count   731.000000         731  731.000000  731.000000  731.000000   \n",
              "unique         NaN         731         NaN         NaN         NaN   \n",
              "top            NaN  2011-01-01         NaN         NaN         NaN   \n",
              "freq           NaN           1         NaN         NaN         NaN   \n",
              "mean    366.000000         NaN    2.496580    0.500684    6.519836   \n",
              "std     211.165812         NaN    1.110807    0.500342    3.451913   \n",
              "min       1.000000         NaN    1.000000    0.000000    1.000000   \n",
              "25%     183.500000         NaN    2.000000    0.000000    4.000000   \n",
              "50%     366.000000         NaN    3.000000    1.000000    7.000000   \n",
              "75%     548.500000         NaN    3.000000    1.000000   10.000000   \n",
              "max     731.000000         NaN    4.000000    1.000000   12.000000   \n",
              "\n",
              "           holiday     weekday  workingday  weathersit        temp  \\\n",
              "count   731.000000  731.000000  731.000000  731.000000  731.000000   \n",
              "unique         NaN         NaN         NaN         NaN         NaN   \n",
              "top            NaN         NaN         NaN         NaN         NaN   \n",
              "freq           NaN         NaN         NaN         NaN         NaN   \n",
              "mean      0.028728    2.997264    0.683995    1.395349    0.495385   \n",
              "std       0.167155    2.004787    0.465233    0.544894    0.183051   \n",
              "min       0.000000    0.000000    0.000000    1.000000    0.059130   \n",
              "25%       0.000000    1.000000    0.000000    1.000000    0.337083   \n",
              "50%       0.000000    3.000000    1.000000    1.000000    0.498333   \n",
              "75%       0.000000    5.000000    1.000000    2.000000    0.655417   \n",
              "max       1.000000    6.000000    1.000000    3.000000    0.861667   \n",
              "\n",
              "             atemp         hum   windspeed       casual   registered  \\\n",
              "count   731.000000  731.000000  731.000000   731.000000   731.000000   \n",
              "unique         NaN         NaN         NaN          NaN          NaN   \n",
              "top            NaN         NaN         NaN          NaN          NaN   \n",
              "freq           NaN         NaN         NaN          NaN          NaN   \n",
              "mean      0.474354    0.627894    0.190486   848.176471  3656.172367   \n",
              "std       0.162961    0.142429    0.077498   686.622488  1560.256377   \n",
              "min       0.079070    0.000000    0.022392     2.000000    20.000000   \n",
              "25%       0.337842    0.520000    0.134950   315.500000  2497.000000   \n",
              "50%       0.486733    0.626667    0.180975   713.000000  3662.000000   \n",
              "75%       0.608602    0.730209    0.233214  1096.000000  4776.500000   \n",
              "max       0.840896    0.972500    0.507463  3410.000000  6946.000000   \n",
              "\n",
              "                cnt  \n",
              "count    731.000000  \n",
              "unique          NaN  \n",
              "top             NaN  \n",
              "freq            NaN  \n",
              "mean    4504.348837  \n",
              "std     1937.211452  \n",
              "min       22.000000  \n",
              "25%     3152.000000  \n",
              "50%     4548.000000  \n",
              "75%     5956.000000  \n",
              "max     8714.000000  "
            ]
          },
          "execution_count": 218,
          "metadata": {},
          "output_type": "execute_result"
        }
      ],
      "source": [
        "df_day.describe(include='all')"
      ]
    },
    {
      "cell_type": "markdown",
      "metadata": {},
      "source": [
        "Berdasarkan deskripsi statistik untuk table `df_day` diatas, dapat dilihat bahwa tidak terdapat parameter statistik yang tidak sesuai dengan kolom atau atribut dari masing-masing data pada table tersebut."
      ]
    },
    {
      "cell_type": "markdown",
      "metadata": {},
      "source": [
        "Kemudian `cek seluruh tipe data` dari masing-masing kolom yang terdapat pada table `df_day`."
      ]
    },
    {
      "cell_type": "code",
      "execution_count": 219,
      "metadata": {},
      "outputs": [
        {
          "name": "stdout",
          "output_type": "stream",
          "text": [
            "<class 'pandas.core.frame.DataFrame'>\n",
            "RangeIndex: 731 entries, 0 to 730\n",
            "Data columns (total 16 columns):\n",
            " #   Column      Non-Null Count  Dtype  \n",
            "---  ------      --------------  -----  \n",
            " 0   instant     731 non-null    int64  \n",
            " 1   dteday      731 non-null    object \n",
            " 2   season      731 non-null    int64  \n",
            " 3   yr          731 non-null    int64  \n",
            " 4   mnth        731 non-null    int64  \n",
            " 5   holiday     731 non-null    int64  \n",
            " 6   weekday     731 non-null    int64  \n",
            " 7   workingday  731 non-null    int64  \n",
            " 8   weathersit  731 non-null    int64  \n",
            " 9   temp        731 non-null    float64\n",
            " 10  atemp       731 non-null    float64\n",
            " 11  hum         731 non-null    float64\n",
            " 12  windspeed   731 non-null    float64\n",
            " 13  casual      731 non-null    int64  \n",
            " 14  registered  731 non-null    int64  \n",
            " 15  cnt         731 non-null    int64  \n",
            "dtypes: float64(4), int64(11), object(1)\n",
            "memory usage: 91.5+ KB\n"
          ]
        }
      ],
      "source": [
        "df_day.info()"
      ]
    },
    {
      "cell_type": "markdown",
      "metadata": {},
      "source": [
        "Berdasarkan informasi data pada table `df_day` diatas, dapat dilihat bahwa terdapat sebanyak 16 kolom data, 731 baris data non-null untuk semua kolom data, dengan tipe data `float` sebanyak 4 kolom, `integer` sebanyak 11 kolom, dan `object` sebanyak 1 kolom data.\n",
        "\n",
        "Setelah dilakukan analisis lebih lanjut, terdapat kesalahan pada 1 tipe data kolom `dteday`, yaitu yang awalnya `object` seharusnya bertipe data `datetime`."
      ]
    },
    {
      "cell_type": "code",
      "execution_count": 220,
      "metadata": {},
      "outputs": [
        {
          "name": "stdout",
          "output_type": "stream",
          "text": [
            "Jumlah data df_day yang terdapat missing value:\n"
          ]
        },
        {
          "data": {
            "text/plain": [
              "instant       0\n",
              "dteday        0\n",
              "season        0\n",
              "yr            0\n",
              "mnth          0\n",
              "holiday       0\n",
              "weekday       0\n",
              "workingday    0\n",
              "weathersit    0\n",
              "temp          0\n",
              "atemp         0\n",
              "hum           0\n",
              "windspeed     0\n",
              "casual        0\n",
              "registered    0\n",
              "cnt           0\n",
              "dtype: int64"
            ]
          },
          "execution_count": 220,
          "metadata": {},
          "output_type": "execute_result"
        }
      ],
      "source": [
        "print(\"Jumlah data df_day yang terdapat missing value:\")\n",
        "df_day.isnull().sum()"
      ]
    },
    {
      "cell_type": "markdown",
      "metadata": {},
      "source": [
        "Berdasarkan hasil pengecekan missing value atau data yang hilang (NaN) dari table `df_day`, dapat dilihat bahwa tidak terdapat data yang hilang pada table `df_day` sehingga `data tersebut dapat dikatakan aman`."
      ]
    },
    {
      "cell_type": "code",
      "execution_count": 221,
      "metadata": {},
      "outputs": [
        {
          "name": "stdout",
          "output_type": "stream",
          "text": [
            "Jumlah Duplikasi pada Data df_day: 0\n"
          ]
        }
      ],
      "source": [
        "print(\"Jumlah Duplikasi pada Data df_day:\", df_day.duplicated().sum())"
      ]
    },
    {
      "cell_type": "markdown",
      "metadata": {},
      "source": [
        "Berdasarkan hasil pengecekan duplikasi data pada table `df_day`, dapat dilihat bahwa tidak terdapat duplikasi data pada table `df_day` yang berarti `semua data bersifat unik`."
      ]
    },
    {
      "cell_type": "markdown",
      "metadata": {},
      "source": [
        "#### Menilai Data df_hour (FIX)"
      ]
    },
    {
      "cell_type": "markdown",
      "metadata": {},
      "source": [
        "Memeriksa `seluruh parameter termasuk non-numerik` yang terdapat pada table `df_hour`."
      ]
    },
    {
      "cell_type": "code",
      "execution_count": 222,
      "metadata": {},
      "outputs": [
        {
          "data": {
            "text/html": [
              "<div>\n",
              "<style scoped>\n",
              "    .dataframe tbody tr th:only-of-type {\n",
              "        vertical-align: middle;\n",
              "    }\n",
              "\n",
              "    .dataframe tbody tr th {\n",
              "        vertical-align: top;\n",
              "    }\n",
              "\n",
              "    .dataframe thead th {\n",
              "        text-align: right;\n",
              "    }\n",
              "</style>\n",
              "<table border=\"1\" class=\"dataframe\">\n",
              "  <thead>\n",
              "    <tr style=\"text-align: right;\">\n",
              "      <th></th>\n",
              "      <th>instant</th>\n",
              "      <th>dteday</th>\n",
              "      <th>season</th>\n",
              "      <th>yr</th>\n",
              "      <th>mnth</th>\n",
              "      <th>hr</th>\n",
              "      <th>holiday</th>\n",
              "      <th>weekday</th>\n",
              "      <th>workingday</th>\n",
              "      <th>weathersit</th>\n",
              "      <th>temp</th>\n",
              "      <th>atemp</th>\n",
              "      <th>hum</th>\n",
              "      <th>windspeed</th>\n",
              "      <th>casual</th>\n",
              "      <th>registered</th>\n",
              "      <th>cnt</th>\n",
              "    </tr>\n",
              "  </thead>\n",
              "  <tbody>\n",
              "    <tr>\n",
              "      <th>count</th>\n",
              "      <td>17379.0000</td>\n",
              "      <td>17379</td>\n",
              "      <td>17379.000000</td>\n",
              "      <td>17379.000000</td>\n",
              "      <td>17379.000000</td>\n",
              "      <td>17379.000000</td>\n",
              "      <td>17379.000000</td>\n",
              "      <td>17379.000000</td>\n",
              "      <td>17379.000000</td>\n",
              "      <td>17379.000000</td>\n",
              "      <td>17379.000000</td>\n",
              "      <td>17379.000000</td>\n",
              "      <td>17379.000000</td>\n",
              "      <td>17379.000000</td>\n",
              "      <td>17379.000000</td>\n",
              "      <td>17379.000000</td>\n",
              "      <td>17379.000000</td>\n",
              "    </tr>\n",
              "    <tr>\n",
              "      <th>unique</th>\n",
              "      <td>NaN</td>\n",
              "      <td>731</td>\n",
              "      <td>NaN</td>\n",
              "      <td>NaN</td>\n",
              "      <td>NaN</td>\n",
              "      <td>NaN</td>\n",
              "      <td>NaN</td>\n",
              "      <td>NaN</td>\n",
              "      <td>NaN</td>\n",
              "      <td>NaN</td>\n",
              "      <td>NaN</td>\n",
              "      <td>NaN</td>\n",
              "      <td>NaN</td>\n",
              "      <td>NaN</td>\n",
              "      <td>NaN</td>\n",
              "      <td>NaN</td>\n",
              "      <td>NaN</td>\n",
              "    </tr>\n",
              "    <tr>\n",
              "      <th>top</th>\n",
              "      <td>NaN</td>\n",
              "      <td>2011-01-01</td>\n",
              "      <td>NaN</td>\n",
              "      <td>NaN</td>\n",
              "      <td>NaN</td>\n",
              "      <td>NaN</td>\n",
              "      <td>NaN</td>\n",
              "      <td>NaN</td>\n",
              "      <td>NaN</td>\n",
              "      <td>NaN</td>\n",
              "      <td>NaN</td>\n",
              "      <td>NaN</td>\n",
              "      <td>NaN</td>\n",
              "      <td>NaN</td>\n",
              "      <td>NaN</td>\n",
              "      <td>NaN</td>\n",
              "      <td>NaN</td>\n",
              "    </tr>\n",
              "    <tr>\n",
              "      <th>freq</th>\n",
              "      <td>NaN</td>\n",
              "      <td>24</td>\n",
              "      <td>NaN</td>\n",
              "      <td>NaN</td>\n",
              "      <td>NaN</td>\n",
              "      <td>NaN</td>\n",
              "      <td>NaN</td>\n",
              "      <td>NaN</td>\n",
              "      <td>NaN</td>\n",
              "      <td>NaN</td>\n",
              "      <td>NaN</td>\n",
              "      <td>NaN</td>\n",
              "      <td>NaN</td>\n",
              "      <td>NaN</td>\n",
              "      <td>NaN</td>\n",
              "      <td>NaN</td>\n",
              "      <td>NaN</td>\n",
              "    </tr>\n",
              "    <tr>\n",
              "      <th>mean</th>\n",
              "      <td>8690.0000</td>\n",
              "      <td>NaN</td>\n",
              "      <td>2.501640</td>\n",
              "      <td>0.502561</td>\n",
              "      <td>6.537775</td>\n",
              "      <td>11.546752</td>\n",
              "      <td>0.028770</td>\n",
              "      <td>3.003683</td>\n",
              "      <td>0.682721</td>\n",
              "      <td>1.425283</td>\n",
              "      <td>0.496987</td>\n",
              "      <td>0.475775</td>\n",
              "      <td>0.627229</td>\n",
              "      <td>0.190098</td>\n",
              "      <td>35.676218</td>\n",
              "      <td>153.786869</td>\n",
              "      <td>189.463088</td>\n",
              "    </tr>\n",
              "    <tr>\n",
              "      <th>std</th>\n",
              "      <td>5017.0295</td>\n",
              "      <td>NaN</td>\n",
              "      <td>1.106918</td>\n",
              "      <td>0.500008</td>\n",
              "      <td>3.438776</td>\n",
              "      <td>6.914405</td>\n",
              "      <td>0.167165</td>\n",
              "      <td>2.005771</td>\n",
              "      <td>0.465431</td>\n",
              "      <td>0.639357</td>\n",
              "      <td>0.192556</td>\n",
              "      <td>0.171850</td>\n",
              "      <td>0.192930</td>\n",
              "      <td>0.122340</td>\n",
              "      <td>49.305030</td>\n",
              "      <td>151.357286</td>\n",
              "      <td>181.387599</td>\n",
              "    </tr>\n",
              "    <tr>\n",
              "      <th>min</th>\n",
              "      <td>1.0000</td>\n",
              "      <td>NaN</td>\n",
              "      <td>1.000000</td>\n",
              "      <td>0.000000</td>\n",
              "      <td>1.000000</td>\n",
              "      <td>0.000000</td>\n",
              "      <td>0.000000</td>\n",
              "      <td>0.000000</td>\n",
              "      <td>0.000000</td>\n",
              "      <td>1.000000</td>\n",
              "      <td>0.020000</td>\n",
              "      <td>0.000000</td>\n",
              "      <td>0.000000</td>\n",
              "      <td>0.000000</td>\n",
              "      <td>0.000000</td>\n",
              "      <td>0.000000</td>\n",
              "      <td>1.000000</td>\n",
              "    </tr>\n",
              "    <tr>\n",
              "      <th>25%</th>\n",
              "      <td>4345.5000</td>\n",
              "      <td>NaN</td>\n",
              "      <td>2.000000</td>\n",
              "      <td>0.000000</td>\n",
              "      <td>4.000000</td>\n",
              "      <td>6.000000</td>\n",
              "      <td>0.000000</td>\n",
              "      <td>1.000000</td>\n",
              "      <td>0.000000</td>\n",
              "      <td>1.000000</td>\n",
              "      <td>0.340000</td>\n",
              "      <td>0.333300</td>\n",
              "      <td>0.480000</td>\n",
              "      <td>0.104500</td>\n",
              "      <td>4.000000</td>\n",
              "      <td>34.000000</td>\n",
              "      <td>40.000000</td>\n",
              "    </tr>\n",
              "    <tr>\n",
              "      <th>50%</th>\n",
              "      <td>8690.0000</td>\n",
              "      <td>NaN</td>\n",
              "      <td>3.000000</td>\n",
              "      <td>1.000000</td>\n",
              "      <td>7.000000</td>\n",
              "      <td>12.000000</td>\n",
              "      <td>0.000000</td>\n",
              "      <td>3.000000</td>\n",
              "      <td>1.000000</td>\n",
              "      <td>1.000000</td>\n",
              "      <td>0.500000</td>\n",
              "      <td>0.484800</td>\n",
              "      <td>0.630000</td>\n",
              "      <td>0.194000</td>\n",
              "      <td>17.000000</td>\n",
              "      <td>115.000000</td>\n",
              "      <td>142.000000</td>\n",
              "    </tr>\n",
              "    <tr>\n",
              "      <th>75%</th>\n",
              "      <td>13034.5000</td>\n",
              "      <td>NaN</td>\n",
              "      <td>3.000000</td>\n",
              "      <td>1.000000</td>\n",
              "      <td>10.000000</td>\n",
              "      <td>18.000000</td>\n",
              "      <td>0.000000</td>\n",
              "      <td>5.000000</td>\n",
              "      <td>1.000000</td>\n",
              "      <td>2.000000</td>\n",
              "      <td>0.660000</td>\n",
              "      <td>0.621200</td>\n",
              "      <td>0.780000</td>\n",
              "      <td>0.253700</td>\n",
              "      <td>48.000000</td>\n",
              "      <td>220.000000</td>\n",
              "      <td>281.000000</td>\n",
              "    </tr>\n",
              "    <tr>\n",
              "      <th>max</th>\n",
              "      <td>17379.0000</td>\n",
              "      <td>NaN</td>\n",
              "      <td>4.000000</td>\n",
              "      <td>1.000000</td>\n",
              "      <td>12.000000</td>\n",
              "      <td>23.000000</td>\n",
              "      <td>1.000000</td>\n",
              "      <td>6.000000</td>\n",
              "      <td>1.000000</td>\n",
              "      <td>4.000000</td>\n",
              "      <td>1.000000</td>\n",
              "      <td>1.000000</td>\n",
              "      <td>1.000000</td>\n",
              "      <td>0.850700</td>\n",
              "      <td>367.000000</td>\n",
              "      <td>886.000000</td>\n",
              "      <td>977.000000</td>\n",
              "    </tr>\n",
              "  </tbody>\n",
              "</table>\n",
              "</div>"
            ],
            "text/plain": [
              "           instant      dteday        season            yr          mnth  \\\n",
              "count   17379.0000       17379  17379.000000  17379.000000  17379.000000   \n",
              "unique         NaN         731           NaN           NaN           NaN   \n",
              "top            NaN  2011-01-01           NaN           NaN           NaN   \n",
              "freq           NaN          24           NaN           NaN           NaN   \n",
              "mean     8690.0000         NaN      2.501640      0.502561      6.537775   \n",
              "std      5017.0295         NaN      1.106918      0.500008      3.438776   \n",
              "min         1.0000         NaN      1.000000      0.000000      1.000000   \n",
              "25%      4345.5000         NaN      2.000000      0.000000      4.000000   \n",
              "50%      8690.0000         NaN      3.000000      1.000000      7.000000   \n",
              "75%     13034.5000         NaN      3.000000      1.000000     10.000000   \n",
              "max     17379.0000         NaN      4.000000      1.000000     12.000000   \n",
              "\n",
              "                  hr       holiday       weekday    workingday    weathersit  \\\n",
              "count   17379.000000  17379.000000  17379.000000  17379.000000  17379.000000   \n",
              "unique           NaN           NaN           NaN           NaN           NaN   \n",
              "top              NaN           NaN           NaN           NaN           NaN   \n",
              "freq             NaN           NaN           NaN           NaN           NaN   \n",
              "mean       11.546752      0.028770      3.003683      0.682721      1.425283   \n",
              "std         6.914405      0.167165      2.005771      0.465431      0.639357   \n",
              "min         0.000000      0.000000      0.000000      0.000000      1.000000   \n",
              "25%         6.000000      0.000000      1.000000      0.000000      1.000000   \n",
              "50%        12.000000      0.000000      3.000000      1.000000      1.000000   \n",
              "75%        18.000000      0.000000      5.000000      1.000000      2.000000   \n",
              "max        23.000000      1.000000      6.000000      1.000000      4.000000   \n",
              "\n",
              "                temp         atemp           hum     windspeed        casual  \\\n",
              "count   17379.000000  17379.000000  17379.000000  17379.000000  17379.000000   \n",
              "unique           NaN           NaN           NaN           NaN           NaN   \n",
              "top              NaN           NaN           NaN           NaN           NaN   \n",
              "freq             NaN           NaN           NaN           NaN           NaN   \n",
              "mean        0.496987      0.475775      0.627229      0.190098     35.676218   \n",
              "std         0.192556      0.171850      0.192930      0.122340     49.305030   \n",
              "min         0.020000      0.000000      0.000000      0.000000      0.000000   \n",
              "25%         0.340000      0.333300      0.480000      0.104500      4.000000   \n",
              "50%         0.500000      0.484800      0.630000      0.194000     17.000000   \n",
              "75%         0.660000      0.621200      0.780000      0.253700     48.000000   \n",
              "max         1.000000      1.000000      1.000000      0.850700    367.000000   \n",
              "\n",
              "          registered           cnt  \n",
              "count   17379.000000  17379.000000  \n",
              "unique           NaN           NaN  \n",
              "top              NaN           NaN  \n",
              "freq             NaN           NaN  \n",
              "mean      153.786869    189.463088  \n",
              "std       151.357286    181.387599  \n",
              "min         0.000000      1.000000  \n",
              "25%        34.000000     40.000000  \n",
              "50%       115.000000    142.000000  \n",
              "75%       220.000000    281.000000  \n",
              "max       886.000000    977.000000  "
            ]
          },
          "execution_count": 222,
          "metadata": {},
          "output_type": "execute_result"
        }
      ],
      "source": [
        "df_hour.describe(include='all')"
      ]
    },
    {
      "cell_type": "markdown",
      "metadata": {},
      "source": [
        "Berdasarkan deskripsi statistik untuk table `df_hour` diatas, dapat dilihat bahwa tidak terdapat parameter statistik yang tidak sesuai dengan kolom atau atribut dari masing-masing data pada table tersebut."
      ]
    },
    {
      "cell_type": "markdown",
      "metadata": {},
      "source": [
        "Kemudian `cek seluruh tipe data` dari masing-masing kolom yang terdapat pada table `df_hour`."
      ]
    },
    {
      "cell_type": "code",
      "execution_count": 223,
      "metadata": {},
      "outputs": [
        {
          "name": "stdout",
          "output_type": "stream",
          "text": [
            "<class 'pandas.core.frame.DataFrame'>\n",
            "RangeIndex: 17379 entries, 0 to 17378\n",
            "Data columns (total 17 columns):\n",
            " #   Column      Non-Null Count  Dtype  \n",
            "---  ------      --------------  -----  \n",
            " 0   instant     17379 non-null  int64  \n",
            " 1   dteday      17379 non-null  object \n",
            " 2   season      17379 non-null  int64  \n",
            " 3   yr          17379 non-null  int64  \n",
            " 4   mnth        17379 non-null  int64  \n",
            " 5   hr          17379 non-null  int64  \n",
            " 6   holiday     17379 non-null  int64  \n",
            " 7   weekday     17379 non-null  int64  \n",
            " 8   workingday  17379 non-null  int64  \n",
            " 9   weathersit  17379 non-null  int64  \n",
            " 10  temp        17379 non-null  float64\n",
            " 11  atemp       17379 non-null  float64\n",
            " 12  hum         17379 non-null  float64\n",
            " 13  windspeed   17379 non-null  float64\n",
            " 14  casual      17379 non-null  int64  \n",
            " 15  registered  17379 non-null  int64  \n",
            " 16  cnt         17379 non-null  int64  \n",
            "dtypes: float64(4), int64(12), object(1)\n",
            "memory usage: 2.3+ MB\n"
          ]
        }
      ],
      "source": [
        "df_hour.info()"
      ]
    },
    {
      "cell_type": "markdown",
      "metadata": {},
      "source": [
        "Berdasarkan informasi data pada table `df_hour` diatas, dapat dilihat bahwa terdapat sebanyak 17 kolom data, 17379 baris data non-null untuk semua kolom data, dengan tipe data `float` sebanyak 4 kolom, `integer` sebanyak 12 kolom, dan `object` sebanyak 1 kolom data.\n",
        "\n",
        "Setelah dilakukan analisis lebih lanjut, terdapat kesalahan pada 1 tipe data kolom `dteday`, yaitu yang awalnya `object` seharusnya bertipe data `datetime`."
      ]
    },
    {
      "cell_type": "code",
      "execution_count": 224,
      "metadata": {},
      "outputs": [
        {
          "name": "stdout",
          "output_type": "stream",
          "text": [
            "Jumlah data df_day yang terdapat missing value:\n"
          ]
        },
        {
          "data": {
            "text/plain": [
              "instant       0\n",
              "dteday        0\n",
              "season        0\n",
              "yr            0\n",
              "mnth          0\n",
              "hr            0\n",
              "holiday       0\n",
              "weekday       0\n",
              "workingday    0\n",
              "weathersit    0\n",
              "temp          0\n",
              "atemp         0\n",
              "hum           0\n",
              "windspeed     0\n",
              "casual        0\n",
              "registered    0\n",
              "cnt           0\n",
              "dtype: int64"
            ]
          },
          "execution_count": 224,
          "metadata": {},
          "output_type": "execute_result"
        }
      ],
      "source": [
        "print(\"Jumlah data df_day yang terdapat missing value:\")\n",
        "df_hour.isnull().sum()"
      ]
    },
    {
      "cell_type": "markdown",
      "metadata": {},
      "source": [
        "Berdasarkan hasil pengecekan missing value atau data yang hilang (NaN) dari table `df_hour`, dapat dilihat bahwa tidak terdapat data yang hilang pada table `df_hour` sehingga `data tersebut dapat dikatakan aman`."
      ]
    },
    {
      "cell_type": "code",
      "execution_count": 225,
      "metadata": {},
      "outputs": [
        {
          "name": "stdout",
          "output_type": "stream",
          "text": [
            "Jumlah Duplikasi pada Data df_day: 0\n"
          ]
        }
      ],
      "source": [
        "print(\"Jumlah Duplikasi pada Data df_day:\", df_hour.duplicated().sum())"
      ]
    },
    {
      "cell_type": "markdown",
      "metadata": {},
      "source": [
        "Berdasarkan hasil pengecekan duplikasi data pada table `df_hour`, dapat dilihat bahwa tidak terdapat duplikasi data pada table `df_hour` yang berarti `semua data bersifat unik`."
      ]
    },
    {
      "cell_type": "markdown",
      "metadata": {
        "id": "7dtxhAPrkhPL"
      },
      "source": [
        "**Insight:**\n",
        "- Terdapat `kesalahan tipe data` kolom `dteday` pada masing-masing table `df_day` dan `df_hour` yang bertipe data `object` disarankan untuk diganti menjadi tipe data `datetime` agar mempermudah dalam analisis berbasis waktu.\n",
        "- Terdapat `kesalahan tipe data` kolom `season, yr, mnth, holiday, weekday, workingday, weathersit` pada masing-maisng table `df_day` dan `df_hour` yang memiliki tipe data `integer` disarankan untuk diganti menjadi tipe data `category` agar lebih efisien dalam penyimpanan dan analisis.\n",
        "- Terdapat beberapa kolom yang tidak diperlukan seperti kolom `instant`. Kolom `instant` ini hanya ID urutan baris yang tidak memiliki makna dalam analisis sehingga perlu diabaikan atau dihapus."
      ]
    },
    {
      "cell_type": "markdown",
      "metadata": {
        "id": "EhN5R4hr8DC1"
      },
      "source": [
        "### 3.3. Cleaning Data (FIX)"
      ]
    },
    {
      "cell_type": "markdown",
      "metadata": {},
      "source": [
        "#### 3.3.1. Membersihkan Data df_day"
      ]
    },
    {
      "cell_type": "markdown",
      "metadata": {},
      "source": [
        "##### Dropping Kolom (FIX)"
      ]
    },
    {
      "cell_type": "markdown",
      "metadata": {},
      "source": [
        "Menghapus kolom `instant` yang tidak diperlukan dalam analisis."
      ]
    },
    {
      "cell_type": "code",
      "execution_count": 226,
      "metadata": {},
      "outputs": [],
      "source": [
        "# df_day.drop(['instant'], axis = 1, inplace= True)"
      ]
    },
    {
      "cell_type": "markdown",
      "metadata": {},
      "source": [
        "##### Mengganti Tipe Data (FIX)"
      ]
    },
    {
      "cell_type": "markdown",
      "metadata": {},
      "source": [
        "Memperbaiki tipe data kolom `dteday` pada table `df_day` yang bertipe `object` menjadi `datetime`."
      ]
    },
    {
      "cell_type": "code",
      "execution_count": 227,
      "metadata": {},
      "outputs": [],
      "source": [
        "for column in [\"dteday\"]:\n",
        "  df_day[column] = pd.to_datetime(df_day[column])"
      ]
    },
    {
      "cell_type": "markdown",
      "metadata": {},
      "source": [
        "Selain itu, kita perlu memperbaiki tipe data beberapa kolom `('season', 'yr', 'mnth', 'holiday', 'weekday', 'workingday', 'weathersit')` dari tipe data `integer` menjadi `category`"
      ]
    },
    {
      "cell_type": "code",
      "execution_count": 228,
      "metadata": {
        "id": "jVnYpprE9Evz"
      },
      "outputs": [],
      "source": [
        "for column in ['season', 'yr', 'mnth', 'holiday', 'weekday', 'workingday', 'weathersit']:\n",
        "     df_day[column] = df_day[column].astype('category')"
      ]
    },
    {
      "cell_type": "markdown",
      "metadata": {},
      "source": [
        "Kemudian dapat dilihat dan dilakukan pengecekan ulang informasi pada table `df_day` untuk kolom `dteday` telah berubah menjadi `datetime`. Sedangkan, untuk kolom `'season', 'yr', 'mnth', 'holiday', 'weekday', 'workingday', 'weathersit` berubah menjadi `category`."
      ]
    },
    {
      "cell_type": "code",
      "execution_count": 229,
      "metadata": {},
      "outputs": [
        {
          "name": "stdout",
          "output_type": "stream",
          "text": [
            "<class 'pandas.core.frame.DataFrame'>\n",
            "RangeIndex: 731 entries, 0 to 730\n",
            "Data columns (total 16 columns):\n",
            " #   Column      Non-Null Count  Dtype         \n",
            "---  ------      --------------  -----         \n",
            " 0   instant     731 non-null    int64         \n",
            " 1   dteday      731 non-null    datetime64[ns]\n",
            " 2   season      731 non-null    category      \n",
            " 3   yr          731 non-null    category      \n",
            " 4   mnth        731 non-null    category      \n",
            " 5   holiday     731 non-null    category      \n",
            " 6   weekday     731 non-null    category      \n",
            " 7   workingday  731 non-null    category      \n",
            " 8   weathersit  731 non-null    category      \n",
            " 9   temp        731 non-null    float64       \n",
            " 10  atemp       731 non-null    float64       \n",
            " 11  hum         731 non-null    float64       \n",
            " 12  windspeed   731 non-null    float64       \n",
            " 13  casual      731 non-null    int64         \n",
            " 14  registered  731 non-null    int64         \n",
            " 15  cnt         731 non-null    int64         \n",
            "dtypes: category(7), datetime64[ns](1), float64(4), int64(4)\n",
            "memory usage: 58.0 KB\n"
          ]
        }
      ],
      "source": [
        "df_day.info()"
      ]
    },
    {
      "cell_type": "markdown",
      "metadata": {},
      "source": [
        "##### Mengganti Nama Kolom (FIX)"
      ]
    },
    {
      "cell_type": "markdown",
      "metadata": {},
      "source": [
        "Memperbaiki beberapa nama kolom `'dteday','yr','mnth','weekday','weathersit','windspeed','cnt','hum'` pada table `df_day` agar lebih mudah dibaca."
      ]
    },
    {
      "cell_type": "code",
      "execution_count": 230,
      "metadata": {},
      "outputs": [],
      "source": [
        "df_day.rename(columns={'dteday':'date','yr':'year','mnth':'month','weekday':'weekday', \n",
        "                       'weathersit':'weather_condition', 'windspeed':'wind_speed',\n",
        "                       'cnt':'count_rent','hum':'humidity'},inplace=True)"
      ]
    },
    {
      "cell_type": "code",
      "execution_count": 231,
      "metadata": {},
      "outputs": [
        {
          "name": "stdout",
          "output_type": "stream",
          "text": [
            "['instant', 'date', 'season', 'year', 'month', 'holiday', 'weekday', 'workingday', 'weather_condition', 'temp', 'atemp', 'humidity', 'wind_speed', 'casual', 'registered', 'count_rent']\n"
          ]
        }
      ],
      "source": [
        "print(list(df_day.columns))"
      ]
    },
    {
      "cell_type": "markdown",
      "metadata": {},
      "source": [
        "##### Label dan Ordinal Encoding (FIX)"
      ]
    },
    {
      "cell_type": "markdown",
      "metadata": {},
      "source": [
        "Melihat `deskripsi Bike Sharing dataset` yang diberikan oleh pemilik atau author dataset."
      ]
    },
    {
      "cell_type": "code",
      "execution_count": 232,
      "metadata": {},
      "outputs": [
        {
          "name": "stdout",
          "output_type": "stream",
          "text": [
            "==========================================\n",
            "Bike Sharing Dataset\n",
            "==========================================\n",
            "\n",
            "Hadi Fanaee-T\n",
            "\n",
            "Laboratory of Artificial Intelligence and Decision Support (LIAAD), University of Porto\n",
            "INESC Porto, Campus da FEUP\n",
            "Rua Dr. Roberto Frias, 378\n",
            "4200 - 465 Porto, Portugal\n",
            "\n",
            "\n",
            "=========================================\n",
            "Background \n",
            "=========================================\n",
            "\n",
            "Bike sharing systems are new generation of traditional bike rentals where whole process from membership, rental and return \n",
            "back has become automatic. Through these systems, user is able to easily rent a bike from a particular position and return \n",
            "back at another position. Currently, there are about over 500 bike-sharing programs around the world which is composed of \n",
            "over 500 thousands bicycles. Today, there exists great interest in these systems due to their important role in traffic, \n",
            "environmental and health issues. \n",
            "\n",
            "Apart from interesting real world applications of bike sharing systems, the characteristics of data being generated by\n",
            "these systems make them attractive for the research. Opposed to other transport services such as bus or subway, the duration\n",
            "of travel, departure and arrival position is explicitly recorded in these systems. This feature turns bike sharing system into\n",
            "a virtual sensor network that can be used for sensing mobility in the city. Hence, it is expected that most of important\n",
            "events in the city could be detected via monitoring these data.\n",
            "\n",
            "=========================================\n",
            "Data Set\n",
            "=========================================\n",
            "Bike-sharing rental process is highly correlated to the environmental and seasonal settings. For instance, weather conditions,\n",
            "precipitation, day of week, season, hour of the day, etc. can affect the rental behaviors. The core data set is related to  \n",
            "the two-year historical log corresponding to years 2011 and 2012 from Capital Bikeshare system, Washington D.C., USA which is \n",
            "publicly available in http://capitalbikeshare.com/system-data. We aggregated the data on two hourly and daily basis and then \n",
            "extracted and added the corresponding weather and seasonal information. Weather information are extracted from http://www.freemeteo.com. \n",
            "\n",
            "=========================================\n",
            "Associated tasks\n",
            "=========================================\n",
            "\n",
            "\t- Regression: \n",
            "\t\tPredication of bike rental count hourly or daily based on the environmental and seasonal settings.\n",
            "\t\n",
            "\t- Event and Anomaly Detection:  \n",
            "\t\tCount of rented bikes are also correlated to some events in the town which easily are traceable via search engines.\n",
            "\t\tFor instance, query like \"2012-10-30 washington d.c.\" in Google returns related results to Hurricane Sandy. Some of the important events are \n",
            "\t\tidentified in [1]. Therefore the data can be used for validation of anomaly or event detection algorithms as well.\n",
            "\n",
            "\n",
            "=========================================\n",
            "Files\n",
            "=========================================\n",
            "\n",
            "\t- Readme.txt\n",
            "\t- hour.csv : bike sharing counts aggregated on hourly basis. Records: 17379 hours\n",
            "\t- day.csv - bike sharing counts aggregated on daily basis. Records: 731 days\n",
            "\n",
            "\t\n",
            "=========================================\n",
            "Dataset characteristics\n",
            "=========================================\t\n",
            "Both hour.csv and day.csv have the following fields, except hr which is not available in day.csv\n",
            "\t\n",
            "\t- instant: record index\n",
            "\t- dteday : date\n",
            "\t- season : season (1:springer, 2:summer, 3:fall, 4:winter)\n",
            "\t- yr : year (0: 2011, 1:2012)\n",
            "\t- mnth : month ( 1 to 12)\n",
            "\t- hr : hour (0 to 23)\n",
            "\t- holiday : weather day is holiday or not (extracted from http://dchr.dc.gov/page/holiday-schedule)\n",
            "\t- weekday : day of the week\n",
            "\t- workingday : if day is neither weekend nor holiday is 1, otherwise is 0.\n",
            "\t+ weathersit : \n",
            "\t\t- 1: Clear, Few clouds, Partly cloudy, Partly cloudy\n",
            "\t\t- 2: Mist + Cloudy, Mist + Broken clouds, Mist + Few clouds, Mist\n",
            "\t\t- 3: Light Snow, Light Rain + Thunderstorm + Scattered clouds, Light Rain + Scattered clouds\n",
            "\t\t- 4: Heavy Rain + Ice Pallets + Thunderstorm + Mist, Snow + Fog\n",
            "\t- temp : Normalized temperature in Celsius. The values are divided to 41 (max)\n",
            "\t- atemp: Normalized feeling temperature in Celsius. The values are divided to 50 (max)\n",
            "\t- hum: Normalized humidity. The values are divided to 100 (max)\n",
            "\t- windspeed: Normalized wind speed. The values are divided to 67 (max)\n",
            "\t- casual: count of casual users\n",
            "\t- registered: count of registered users\n",
            "\t- cnt: count of total rental bikes including both casual and registered\n",
            "\t\n",
            "=========================================\n",
            "License\n",
            "=========================================\n",
            "Use of this dataset in publications must be cited to the following publication:\n",
            "\n",
            "[1] Fanaee-T, Hadi, and Gama, Joao, \"Event labeling combining ensemble detectors and background knowledge\", Progress in Artificial Intelligence (2013): pp. 1-15, Springer Berlin Heidelberg, doi:10.1007/s13748-013-0040-3.\n",
            "\n",
            "@article{\n",
            "\tyear={2013},\n",
            "\tissn={2192-6352},\n",
            "\tjournal={Progress in Artificial Intelligence},\n",
            "\tdoi={10.1007/s13748-013-0040-3},\n",
            "\ttitle={Event labeling combining ensemble detectors and background knowledge},\n",
            "\turl={http://dx.doi.org/10.1007/s13748-013-0040-3},\n",
            "\tpublisher={Springer Berlin Heidelberg},\n",
            "\tkeywords={Event labeling; Event detection; Ensemble learning; Background knowledge},\n",
            "\tauthor={Fanaee-T, Hadi and Gama, Joao},\n",
            "\tpages={1-15}\n",
            "}\n",
            "\n",
            "=========================================\n",
            "Contact\n",
            "=========================================\n",
            "\t\n",
            "For further information about this dataset please contact Hadi Fanaee-T (hadi.fanaee@fe.up.pt)\n",
            "\n"
          ]
        }
      ],
      "source": [
        "f = open('data/Readme.txt', 'r')\n",
        "\n",
        "print(f.read())"
      ]
    },
    {
      "cell_type": "markdown",
      "metadata": {},
      "source": [
        "Berdasarkan karateristik dataset pada Readme.txt, dapat dilihat bahwa beberapa kolom data pada table `df_day` telah melalui tahap label dan encoding. Maka dari itu untuk dapat memproses lebih lanjut, perlu untuk mengembalikan nilai aslinya dengan menggunakan `teknik label dan ordinal decoding`."
      ]
    },
    {
      "cell_type": "code",
      "execution_count": 233,
      "metadata": {},
      "outputs": [],
      "source": [
        "df_day['season'] = df_day['season'].map({1: 'Springer', 2: 'Summer', 3: 'Fall', 4: 'Winter'})\n",
        "df_day['year'] = df_day['year'].map({0: 2011, 1: 2012})\n",
        "df_day['holiday'] = df_day['holiday'].map({0: 'Not Holiday', 1: 'Holiday'})\n",
        "df_day['workingday'] = df_day['workingday'].map({0: 'Holiday', 1: 'Working Day'})\n",
        "df_day['weekday'] = df_day['weekday'].map({0: 'Sunday', 1: 'Monday', 2: 'Tuesday', 3: 'Wednesday', 4: 'Thursday', 5: 'Friday', 6: 'Saturday'})\n",
        "df_day['weather_condition'] = df_day['weather_condition'].map({1: 'Clear', 2: 'Misty', 3: 'Light Snow', 4: 'Heavy Rain'})"
      ]
    },
    {
      "cell_type": "code",
      "execution_count": 234,
      "metadata": {},
      "outputs": [
        {
          "name": "stdout",
          "output_type": "stream",
          "text": [
            "df_day Unique Values\n",
            "season                : ['Springer', 'Summer', 'Fall', 'Winter']\n",
            "Categories (4, object): ['Springer', 'Summer', 'Fall', 'Winter']\n",
            "year                  : [2011, 2012]\n",
            "Categories (2, int64): [2011, 2012]\n",
            "holiday               : ['Not Holiday', 'Holiday']\n",
            "Categories (2, object): ['Not Holiday', 'Holiday']\n",
            "workingday            : ['Holiday', 'Working Day']\n",
            "Categories (2, object): ['Holiday', 'Working Day']\n",
            "weekday               : ['Saturday', 'Sunday', 'Monday', 'Tuesday', 'Wednesday', 'Thursday', 'Friday']\n",
            "Categories (7, object): ['Sunday', 'Monday', 'Tuesday', 'Wednesday', 'Thursday', 'Friday', 'Saturday']\n",
            "weather_condition     : ['Misty', 'Clear', 'Light Snow']\n",
            "Categories (3, object): ['Clear', 'Misty', 'Light Snow']\n"
          ]
        }
      ],
      "source": [
        "print(\"df_day Unique Values\")\n",
        "columns = ['season', 'year', 'holiday', 'workingday', 'weekday', 'weather_condition']\n",
        "\n",
        "for column in columns:\n",
        "    print(f\"{column:<22}: {df_day[column].unique()}\")"
      ]
    },
    {
      "cell_type": "markdown",
      "metadata": {},
      "source": [
        "##### Denormalize Numeric Value (FIX)"
      ]
    },
    {
      "cell_type": "markdown",
      "metadata": {},
      "source": [
        "Seperti data kategorikal sebelumnya, beberapa kolom data pada table df_day telah melewati proses normalisasi, sehingga kita perlu mengembalikannya ke nilai aslinya dengan `teknik denormalisasi nilai`."
      ]
    },
    {
      "cell_type": "code",
      "execution_count": 235,
      "metadata": {},
      "outputs": [],
      "source": [
        "df_day['temp'] = (df_day['temp']) * 41                 # Suhu asli dalam derajat C\n",
        "df_day['atemp'] = (df_day['atemp']) * 50               # Suhu terasa dalam derajat C\n",
        "df_day['humidity'] = (df_day['humidity']) * 100        # Kelembaban dalam %\n",
        "df_day['wind_speed'] = (df_day['wind_speed']) * 67     # Kecepatan angin dalam km/h"
      ]
    },
    {
      "cell_type": "markdown",
      "metadata": {},
      "source": [
        "#### 3.3.2. Membersihkan Data df_hour"
      ]
    },
    {
      "cell_type": "markdown",
      "metadata": {},
      "source": [
        "##### Dropping Kolom (FIX)"
      ]
    },
    {
      "cell_type": "markdown",
      "metadata": {},
      "source": [
        "Menghapus kolom `instant` yang tidak diperlukan dalam analisis."
      ]
    },
    {
      "cell_type": "code",
      "execution_count": 236,
      "metadata": {},
      "outputs": [],
      "source": [
        "# df_hour.drop(['instant'], axis = 1, inplace= True)"
      ]
    },
    {
      "cell_type": "markdown",
      "metadata": {},
      "source": [
        "##### Mengganti Tipe Data (FIX)"
      ]
    },
    {
      "cell_type": "markdown",
      "metadata": {},
      "source": [
        "Memperbaiki tipe data kolom `dteday` pada table `df_hour` yang bertipe `object` menjadi `datetime`."
      ]
    },
    {
      "cell_type": "code",
      "execution_count": 237,
      "metadata": {},
      "outputs": [],
      "source": [
        "for column in [\"dteday\"]:\n",
        "  df_hour[column] = pd.to_datetime(df_hour[column])"
      ]
    },
    {
      "cell_type": "markdown",
      "metadata": {},
      "source": [
        "Selain itu, kita perlu memperbaiki tipe data beberapa kolom `('season', 'yr', 'mnth', 'holiday', 'weekday', 'workingday', 'weathersit')` dari tipe data `integer` menjadi `category`"
      ]
    },
    {
      "cell_type": "code",
      "execution_count": 238,
      "metadata": {},
      "outputs": [],
      "source": [
        "for column in ['season', 'yr', 'mnth', 'holiday', 'weekday', 'workingday', 'weathersit']:\n",
        "     df_hour[column] = df_hour[column].astype('category')"
      ]
    },
    {
      "cell_type": "markdown",
      "metadata": {},
      "source": [
        "Kemudian dapat dilihat dan dilakukan pengecekan ulang informasi pada table `df_hour` untuk kolom `dteday` telah berubah menjadi `datetime`. Sedangkan, untuk kolom `'season', 'yr', 'mnth', 'holiday', 'weekday', 'workingday', 'weathersit` berubah menjadi `category`."
      ]
    },
    {
      "cell_type": "code",
      "execution_count": 239,
      "metadata": {},
      "outputs": [
        {
          "name": "stdout",
          "output_type": "stream",
          "text": [
            "<class 'pandas.core.frame.DataFrame'>\n",
            "RangeIndex: 17379 entries, 0 to 17378\n",
            "Data columns (total 17 columns):\n",
            " #   Column      Non-Null Count  Dtype         \n",
            "---  ------      --------------  -----         \n",
            " 0   instant     17379 non-null  int64         \n",
            " 1   dteday      17379 non-null  datetime64[ns]\n",
            " 2   season      17379 non-null  category      \n",
            " 3   yr          17379 non-null  category      \n",
            " 4   mnth        17379 non-null  category      \n",
            " 5   hr          17379 non-null  int64         \n",
            " 6   holiday     17379 non-null  category      \n",
            " 7   weekday     17379 non-null  category      \n",
            " 8   workingday  17379 non-null  category      \n",
            " 9   weathersit  17379 non-null  category      \n",
            " 10  temp        17379 non-null  float64       \n",
            " 11  atemp       17379 non-null  float64       \n",
            " 12  hum         17379 non-null  float64       \n",
            " 13  windspeed   17379 non-null  float64       \n",
            " 14  casual      17379 non-null  int64         \n",
            " 15  registered  17379 non-null  int64         \n",
            " 16  cnt         17379 non-null  int64         \n",
            "dtypes: category(7), datetime64[ns](1), float64(4), int64(5)\n",
            "memory usage: 1.4 MB\n"
          ]
        }
      ],
      "source": [
        "df_hour.info()"
      ]
    },
    {
      "cell_type": "markdown",
      "metadata": {},
      "source": [
        "##### Mengganti Nama Kolom (FIX)"
      ]
    },
    {
      "cell_type": "markdown",
      "metadata": {},
      "source": [
        "Memperbaiki beberapa nama kolom `'dteday','yr','mnth','weekday','weathersit','windspeed','cnt','hum'` pada table `df_hour` agar lebih mudah dibaca."
      ]
    },
    {
      "cell_type": "code",
      "execution_count": 240,
      "metadata": {},
      "outputs": [],
      "source": [
        "df_hour.rename(columns={'dteday':'date','yr':'year','mnth':'month','hr':'hour','weekday':'weekday', \n",
        "                       'weathersit':'weather_condition', 'windspeed':'wind_speed',\n",
        "                       'cnt':'count_rent','hum':'humidity'},inplace=True)"
      ]
    },
    {
      "cell_type": "code",
      "execution_count": 241,
      "metadata": {},
      "outputs": [
        {
          "name": "stdout",
          "output_type": "stream",
          "text": [
            "['instant', 'date', 'season', 'year', 'month', 'hour', 'holiday', 'weekday', 'workingday', 'weather_condition', 'temp', 'atemp', 'humidity', 'wind_speed', 'casual', 'registered', 'count_rent']\n"
          ]
        }
      ],
      "source": [
        "print(list(df_hour.columns))"
      ]
    },
    {
      "cell_type": "markdown",
      "metadata": {},
      "source": [
        "##### Label dan Ordinal Encoding (FIX)"
      ]
    },
    {
      "cell_type": "markdown",
      "metadata": {},
      "source": [
        "Melihat `deskripsi Bike Sharing dataset` yang diberikan oleh pemilik atau author dataset."
      ]
    },
    {
      "cell_type": "code",
      "execution_count": 242,
      "metadata": {},
      "outputs": [
        {
          "name": "stdout",
          "output_type": "stream",
          "text": [
            "==========================================\n",
            "Bike Sharing Dataset\n",
            "==========================================\n",
            "\n",
            "Hadi Fanaee-T\n",
            "\n",
            "Laboratory of Artificial Intelligence and Decision Support (LIAAD), University of Porto\n",
            "INESC Porto, Campus da FEUP\n",
            "Rua Dr. Roberto Frias, 378\n",
            "4200 - 465 Porto, Portugal\n",
            "\n",
            "\n",
            "=========================================\n",
            "Background \n",
            "=========================================\n",
            "\n",
            "Bike sharing systems are new generation of traditional bike rentals where whole process from membership, rental and return \n",
            "back has become automatic. Through these systems, user is able to easily rent a bike from a particular position and return \n",
            "back at another position. Currently, there are about over 500 bike-sharing programs around the world which is composed of \n",
            "over 500 thousands bicycles. Today, there exists great interest in these systems due to their important role in traffic, \n",
            "environmental and health issues. \n",
            "\n",
            "Apart from interesting real world applications of bike sharing systems, the characteristics of data being generated by\n",
            "these systems make them attractive for the research. Opposed to other transport services such as bus or subway, the duration\n",
            "of travel, departure and arrival position is explicitly recorded in these systems. This feature turns bike sharing system into\n",
            "a virtual sensor network that can be used for sensing mobility in the city. Hence, it is expected that most of important\n",
            "events in the city could be detected via monitoring these data.\n",
            "\n",
            "=========================================\n",
            "Data Set\n",
            "=========================================\n",
            "Bike-sharing rental process is highly correlated to the environmental and seasonal settings. For instance, weather conditions,\n",
            "precipitation, day of week, season, hour of the day, etc. can affect the rental behaviors. The core data set is related to  \n",
            "the two-year historical log corresponding to years 2011 and 2012 from Capital Bikeshare system, Washington D.C., USA which is \n",
            "publicly available in http://capitalbikeshare.com/system-data. We aggregated the data on two hourly and daily basis and then \n",
            "extracted and added the corresponding weather and seasonal information. Weather information are extracted from http://www.freemeteo.com. \n",
            "\n",
            "=========================================\n",
            "Associated tasks\n",
            "=========================================\n",
            "\n",
            "\t- Regression: \n",
            "\t\tPredication of bike rental count hourly or daily based on the environmental and seasonal settings.\n",
            "\t\n",
            "\t- Event and Anomaly Detection:  \n",
            "\t\tCount of rented bikes are also correlated to some events in the town which easily are traceable via search engines.\n",
            "\t\tFor instance, query like \"2012-10-30 washington d.c.\" in Google returns related results to Hurricane Sandy. Some of the important events are \n",
            "\t\tidentified in [1]. Therefore the data can be used for validation of anomaly or event detection algorithms as well.\n",
            "\n",
            "\n",
            "=========================================\n",
            "Files\n",
            "=========================================\n",
            "\n",
            "\t- Readme.txt\n",
            "\t- hour.csv : bike sharing counts aggregated on hourly basis. Records: 17379 hours\n",
            "\t- day.csv - bike sharing counts aggregated on daily basis. Records: 731 days\n",
            "\n",
            "\t\n",
            "=========================================\n",
            "Dataset characteristics\n",
            "=========================================\t\n",
            "Both hour.csv and day.csv have the following fields, except hr which is not available in day.csv\n",
            "\t\n",
            "\t- instant: record index\n",
            "\t- dteday : date\n",
            "\t- season : season (1:springer, 2:summer, 3:fall, 4:winter)\n",
            "\t- yr : year (0: 2011, 1:2012)\n",
            "\t- mnth : month ( 1 to 12)\n",
            "\t- hr : hour (0 to 23)\n",
            "\t- holiday : weather day is holiday or not (extracted from http://dchr.dc.gov/page/holiday-schedule)\n",
            "\t- weekday : day of the week\n",
            "\t- workingday : if day is neither weekend nor holiday is 1, otherwise is 0.\n",
            "\t+ weathersit : \n",
            "\t\t- 1: Clear, Few clouds, Partly cloudy, Partly cloudy\n",
            "\t\t- 2: Mist + Cloudy, Mist + Broken clouds, Mist + Few clouds, Mist\n",
            "\t\t- 3: Light Snow, Light Rain + Thunderstorm + Scattered clouds, Light Rain + Scattered clouds\n",
            "\t\t- 4: Heavy Rain + Ice Pallets + Thunderstorm + Mist, Snow + Fog\n",
            "\t- temp : Normalized temperature in Celsius. The values are divided to 41 (max)\n",
            "\t- atemp: Normalized feeling temperature in Celsius. The values are divided to 50 (max)\n",
            "\t- hum: Normalized humidity. The values are divided to 100 (max)\n",
            "\t- windspeed: Normalized wind speed. The values are divided to 67 (max)\n",
            "\t- casual: count of casual users\n",
            "\t- registered: count of registered users\n",
            "\t- cnt: count of total rental bikes including both casual and registered\n",
            "\t\n",
            "=========================================\n",
            "License\n",
            "=========================================\n",
            "Use of this dataset in publications must be cited to the following publication:\n",
            "\n",
            "[1] Fanaee-T, Hadi, and Gama, Joao, \"Event labeling combining ensemble detectors and background knowledge\", Progress in Artificial Intelligence (2013): pp. 1-15, Springer Berlin Heidelberg, doi:10.1007/s13748-013-0040-3.\n",
            "\n",
            "@article{\n",
            "\tyear={2013},\n",
            "\tissn={2192-6352},\n",
            "\tjournal={Progress in Artificial Intelligence},\n",
            "\tdoi={10.1007/s13748-013-0040-3},\n",
            "\ttitle={Event labeling combining ensemble detectors and background knowledge},\n",
            "\turl={http://dx.doi.org/10.1007/s13748-013-0040-3},\n",
            "\tpublisher={Springer Berlin Heidelberg},\n",
            "\tkeywords={Event labeling; Event detection; Ensemble learning; Background knowledge},\n",
            "\tauthor={Fanaee-T, Hadi and Gama, Joao},\n",
            "\tpages={1-15}\n",
            "}\n",
            "\n",
            "=========================================\n",
            "Contact\n",
            "=========================================\n",
            "\t\n",
            "For further information about this dataset please contact Hadi Fanaee-T (hadi.fanaee@fe.up.pt)\n",
            "\n"
          ]
        }
      ],
      "source": [
        "f = open('data/Readme.txt', 'r')\n",
        "\n",
        "print(f.read())"
      ]
    },
    {
      "cell_type": "markdown",
      "metadata": {},
      "source": [
        "Berdasarkan karateristik dataset pada Readme.txt, dapat dilihat bahwa beberapa data kategorikal pada table `df_day` telah melalui tahap label dan encoding. Maka dari itu untuk dapat memproses lebih lanjut, perlu untuk mengembalikan nilai aslinya dengan menggunakan `teknik label dan ordinal decoding`."
      ]
    },
    {
      "cell_type": "code",
      "execution_count": 243,
      "metadata": {},
      "outputs": [],
      "source": [
        "df_hour['season'] = df_hour['season'].map({1: 'Springer', 2: 'Summer', 3: 'Fall', 4: 'Winter'})\n",
        "df_hour['year'] = df_hour['year'].map({0: 2011, 1: 2012})\n",
        "df_hour['holiday'] = df_hour['holiday'].map({0: 'Not Holiday', 1: 'Holiday'})\n",
        "df_hour['workingday'] = df_hour['workingday'].map({0: 'Holiday', 1: 'Working Day'})\n",
        "df_hour['weekday'] = df_hour['weekday'].map({0: 'Sunday', 1: 'Monday', 2: 'Tuesday', 3: 'Wednesday', 4: 'Thursday', 5: 'Friday', 6: 'Saturday'})\n",
        "df_hour['weather_condition'] = df_hour['weather_condition'].map({1: 'Clear', 2: 'Misty', 3: 'Light Snow', 4: 'Heavy Rain'})"
      ]
    },
    {
      "cell_type": "code",
      "execution_count": 244,
      "metadata": {},
      "outputs": [
        {
          "name": "stdout",
          "output_type": "stream",
          "text": [
            "df_day Unique Values\n",
            "season                : ['Springer', 'Summer', 'Fall', 'Winter']\n",
            "Categories (4, object): ['Springer', 'Summer', 'Fall', 'Winter']\n",
            "year                  : [2011, 2012]\n",
            "Categories (2, int64): [2011, 2012]\n",
            "holiday               : ['Not Holiday', 'Holiday']\n",
            "Categories (2, object): ['Not Holiday', 'Holiday']\n",
            "workingday            : ['Holiday', 'Working Day']\n",
            "Categories (2, object): ['Holiday', 'Working Day']\n",
            "weekday               : ['Saturday', 'Sunday', 'Monday', 'Tuesday', 'Wednesday', 'Thursday', 'Friday']\n",
            "Categories (7, object): ['Sunday', 'Monday', 'Tuesday', 'Wednesday', 'Thursday', 'Friday', 'Saturday']\n",
            "weather_condition     : ['Clear', 'Misty', 'Light Snow', 'Heavy Rain']\n",
            "Categories (4, object): ['Clear', 'Misty', 'Light Snow', 'Heavy Rain']\n"
          ]
        }
      ],
      "source": [
        "print(\"df_day Unique Values\")\n",
        "columns = ['season', 'year', 'holiday', 'workingday', 'weekday', 'weather_condition']\n",
        "\n",
        "for column in columns:\n",
        "    print(f\"{column:<22}: {df_hour[column].unique()}\")"
      ]
    },
    {
      "cell_type": "markdown",
      "metadata": {},
      "source": [
        "##### Denormalize Numeric Value (FIX)"
      ]
    },
    {
      "cell_type": "markdown",
      "metadata": {},
      "source": [
        "Seperti data kategorikal sebelumnya, beberapa data kontinu pada table `df_hour` telah melewati proses normalisasi, sehingga kita perlu mengembalikannya ke nilai aslinya dengan `teknik denormalisasi nilai`."
      ]
    },
    {
      "cell_type": "code",
      "execution_count": 245,
      "metadata": {},
      "outputs": [],
      "source": [
        "df_hour['temp'] = (df_hour['temp']) * 41                 # Suhu asli dalam derajat C\n",
        "df_hour['atemp'] = (df_hour['atemp']) * 50               # Suhu terasa dalam derajat C\n",
        "df_hour['humidity'] = (df_hour['humidity']) * 100        # Kelembaban dalam %\n",
        "df_hour['wind_speed'] = (df_hour['wind_speed']) * 67     # Kecepatan angin dalam km/h"
      ]
    },
    {
      "cell_type": "markdown",
      "metadata": {
        "id": "Q_5ejIqckiSP"
      },
      "source": [
        "**Insight:**\n",
        "- Kolom yang tidak diperlukan dalam proses analisis seperti kolom `instant` telah dihapus pada masing-masing table `df_day` dan `df_hour`.\n",
        "- Untuk memudahkan pemahaman analisis lebih lanjut, beberapa nama kolom yang sebelumnya `('dteday','yr','mnth','weekday','weathersit','windspeed','cnt','hum')` diperbaiki menjadi `('date','year','month','weekday','weather_condition','wind_speed','count_rent','humidity')` pada masing-masing table `df_day` dan `df_hour`.\n",
        "- Kesalahan tipe data pada beberapa kolom antara lain kolom `'date','season', 'year', 'month', 'holiday', 'weekday', 'workingday', dan 'weather_condition'` telah diperbaiki pada masing-masing table `df_day` dan `df_hour`.\n",
        "- Pengembalian nilai asli telah dilakukan pada beberapa data kategorikal `('season', 'year', 'holiday', 'workingday', 'weekday', 'weather_condition')` yang telah melewati proses nomalisasi pada masing-masing table `df_day` dan `df_hour` dengan menggunakan teknik label dan ordinal encoding.\n",
        "- Selain data kategorikal, beberapa data kontinu `('temp','atemp','humidity','wind_speed')` juga dilakukan pengembalian nilai asli dengan menggunakan teknik denormalisasi nilai."
      ]
    },
    {
      "cell_type": "markdown",
      "metadata": {},
      "source": [
        "#### 3.3.3. Simpan Data df_day dan df_hour"
      ]
    },
    {
      "cell_type": "code",
      "execution_count": null,
      "metadata": {},
      "outputs": [],
      "source": [
        "df_day.to_csv(r'dashboard/day_cleaned.csv', index=False)\n",
        "df_hour.to_csv(r'dashboard/hour_cleaned.csv', index=False)"
      ]
    },
    {
      "cell_type": "markdown",
      "metadata": {
        "id": "gp-Y6wU38DC1"
      },
      "source": [
        "## 4. Exploratory Data Analysis (EDA)"
      ]
    },
    {
      "cell_type": "markdown",
      "metadata": {
        "id": "MW7WF2kr8DC1"
      },
      "source": [
        "### 4.1. Eksplorasi Data df_day"
      ]
    },
    {
      "cell_type": "markdown",
      "metadata": {},
      "source": [
        "#### 4.1.1. Analisis Jumlah Penggunaan Layanan Bike Sharing dalam Tren Tahunan (FIX)"
      ]
    },
    {
      "cell_type": "code",
      "execution_count": 247,
      "metadata": {},
      "outputs": [
        {
          "data": {
            "text/html": [
              "<div>\n",
              "<style scoped>\n",
              "    .dataframe tbody tr th:only-of-type {\n",
              "        vertical-align: middle;\n",
              "    }\n",
              "\n",
              "    .dataframe tbody tr th {\n",
              "        vertical-align: top;\n",
              "    }\n",
              "\n",
              "    .dataframe thead th {\n",
              "        text-align: right;\n",
              "    }\n",
              "</style>\n",
              "<table border=\"1\" class=\"dataframe\">\n",
              "  <thead>\n",
              "    <tr style=\"text-align: right;\">\n",
              "      <th></th>\n",
              "      <th>yearmonth</th>\n",
              "      <th>casual</th>\n",
              "      <th>registered</th>\n",
              "      <th>count_rent</th>\n",
              "    </tr>\n",
              "  </thead>\n",
              "  <tbody>\n",
              "    <tr>\n",
              "      <th>0</th>\n",
              "      <td>2011-01</td>\n",
              "      <td>3073</td>\n",
              "      <td>35116</td>\n",
              "      <td>38189</td>\n",
              "    </tr>\n",
              "    <tr>\n",
              "      <th>1</th>\n",
              "      <td>2011-02</td>\n",
              "      <td>6242</td>\n",
              "      <td>41973</td>\n",
              "      <td>48215</td>\n",
              "    </tr>\n",
              "    <tr>\n",
              "      <th>2</th>\n",
              "      <td>2011-03</td>\n",
              "      <td>12826</td>\n",
              "      <td>51219</td>\n",
              "      <td>64045</td>\n",
              "    </tr>\n",
              "    <tr>\n",
              "      <th>3</th>\n",
              "      <td>2011-04</td>\n",
              "      <td>22346</td>\n",
              "      <td>72524</td>\n",
              "      <td>94870</td>\n",
              "    </tr>\n",
              "    <tr>\n",
              "      <th>4</th>\n",
              "      <td>2011-05</td>\n",
              "      <td>31050</td>\n",
              "      <td>104771</td>\n",
              "      <td>135821</td>\n",
              "    </tr>\n",
              "    <tr>\n",
              "      <th>5</th>\n",
              "      <td>2011-06</td>\n",
              "      <td>30612</td>\n",
              "      <td>112900</td>\n",
              "      <td>143512</td>\n",
              "    </tr>\n",
              "    <tr>\n",
              "      <th>6</th>\n",
              "      <td>2011-07</td>\n",
              "      <td>36452</td>\n",
              "      <td>104889</td>\n",
              "      <td>141341</td>\n",
              "    </tr>\n",
              "    <tr>\n",
              "      <th>7</th>\n",
              "      <td>2011-08</td>\n",
              "      <td>28842</td>\n",
              "      <td>107849</td>\n",
              "      <td>136691</td>\n",
              "    </tr>\n",
              "    <tr>\n",
              "      <th>8</th>\n",
              "      <td>2011-09</td>\n",
              "      <td>26545</td>\n",
              "      <td>100873</td>\n",
              "      <td>127418</td>\n",
              "    </tr>\n",
              "    <tr>\n",
              "      <th>9</th>\n",
              "      <td>2011-10</td>\n",
              "      <td>25222</td>\n",
              "      <td>98289</td>\n",
              "      <td>123511</td>\n",
              "    </tr>\n",
              "    <tr>\n",
              "      <th>10</th>\n",
              "      <td>2011-11</td>\n",
              "      <td>15594</td>\n",
              "      <td>86573</td>\n",
              "      <td>102167</td>\n",
              "    </tr>\n",
              "    <tr>\n",
              "      <th>11</th>\n",
              "      <td>2011-12</td>\n",
              "      <td>8448</td>\n",
              "      <td>78875</td>\n",
              "      <td>87323</td>\n",
              "    </tr>\n",
              "    <tr>\n",
              "      <th>12</th>\n",
              "      <td>2012-01</td>\n",
              "      <td>8969</td>\n",
              "      <td>87775</td>\n",
              "      <td>96744</td>\n",
              "    </tr>\n",
              "    <tr>\n",
              "      <th>13</th>\n",
              "      <td>2012-02</td>\n",
              "      <td>8721</td>\n",
              "      <td>94416</td>\n",
              "      <td>103137</td>\n",
              "    </tr>\n",
              "    <tr>\n",
              "      <th>14</th>\n",
              "      <td>2012-03</td>\n",
              "      <td>31618</td>\n",
              "      <td>133257</td>\n",
              "      <td>164875</td>\n",
              "    </tr>\n",
              "    <tr>\n",
              "      <th>15</th>\n",
              "      <td>2012-04</td>\n",
              "      <td>38456</td>\n",
              "      <td>135768</td>\n",
              "      <td>174224</td>\n",
              "    </tr>\n",
              "    <tr>\n",
              "      <th>16</th>\n",
              "      <td>2012-05</td>\n",
              "      <td>44235</td>\n",
              "      <td>151630</td>\n",
              "      <td>195865</td>\n",
              "    </tr>\n",
              "    <tr>\n",
              "      <th>17</th>\n",
              "      <td>2012-06</td>\n",
              "      <td>43294</td>\n",
              "      <td>159536</td>\n",
              "      <td>202830</td>\n",
              "    </tr>\n",
              "    <tr>\n",
              "      <th>18</th>\n",
              "      <td>2012-07</td>\n",
              "      <td>41705</td>\n",
              "      <td>161902</td>\n",
              "      <td>203607</td>\n",
              "    </tr>\n",
              "    <tr>\n",
              "      <th>19</th>\n",
              "      <td>2012-08</td>\n",
              "      <td>43197</td>\n",
              "      <td>171306</td>\n",
              "      <td>214503</td>\n",
              "    </tr>\n",
              "    <tr>\n",
              "      <th>20</th>\n",
              "      <td>2012-09</td>\n",
              "      <td>43778</td>\n",
              "      <td>174795</td>\n",
              "      <td>218573</td>\n",
              "    </tr>\n",
              "    <tr>\n",
              "      <th>21</th>\n",
              "      <td>2012-10</td>\n",
              "      <td>34538</td>\n",
              "      <td>164303</td>\n",
              "      <td>198841</td>\n",
              "    </tr>\n",
              "    <tr>\n",
              "      <th>22</th>\n",
              "      <td>2012-11</td>\n",
              "      <td>21009</td>\n",
              "      <td>131655</td>\n",
              "      <td>152664</td>\n",
              "    </tr>\n",
              "    <tr>\n",
              "      <th>23</th>\n",
              "      <td>2012-12</td>\n",
              "      <td>13245</td>\n",
              "      <td>110468</td>\n",
              "      <td>123713</td>\n",
              "    </tr>\n",
              "  </tbody>\n",
              "</table>\n",
              "</div>"
            ],
            "text/plain": [
              "   yearmonth  casual  registered  count_rent\n",
              "0    2011-01    3073       35116       38189\n",
              "1    2011-02    6242       41973       48215\n",
              "2    2011-03   12826       51219       64045\n",
              "3    2011-04   22346       72524       94870\n",
              "4    2011-05   31050      104771      135821\n",
              "5    2011-06   30612      112900      143512\n",
              "6    2011-07   36452      104889      141341\n",
              "7    2011-08   28842      107849      136691\n",
              "8    2011-09   26545      100873      127418\n",
              "9    2011-10   25222       98289      123511\n",
              "10   2011-11   15594       86573      102167\n",
              "11   2011-12    8448       78875       87323\n",
              "12   2012-01    8969       87775       96744\n",
              "13   2012-02    8721       94416      103137\n",
              "14   2012-03   31618      133257      164875\n",
              "15   2012-04   38456      135768      174224\n",
              "16   2012-05   44235      151630      195865\n",
              "17   2012-06   43294      159536      202830\n",
              "18   2012-07   41705      161902      203607\n",
              "19   2012-08   43197      171306      214503\n",
              "20   2012-09   43778      174795      218573\n",
              "21   2012-10   34538      164303      198841\n",
              "22   2012-11   21009      131655      152664\n",
              "23   2012-12   13245      110468      123713"
            ]
          },
          "execution_count": 247,
          "metadata": {},
          "output_type": "execute_result"
        }
      ],
      "source": [
        "df_day[\"yearmonth\"] = df_day[\"date\"].dt.strftime('%Y-%m')  # Format YYYY-MM\n",
        "monthly_df = df_day.groupby(\"yearmonth\").agg({\n",
        "    \"casual\": \"sum\",\n",
        "    \"registered\": \"sum\",\n",
        "    \"count_rent\": \"sum\"\n",
        "}).reset_index()\n",
        "monthly_df"
      ]
    },
    {
      "cell_type": "markdown",
      "metadata": {},
      "source": [
        "#### 4.1.2. Analisis Pengguna Casual & Registered (FIX)"
      ]
    },
    {
      "cell_type": "code",
      "execution_count": 248,
      "metadata": {},
      "outputs": [
        {
          "name": "stderr",
          "output_type": "stream",
          "text": [
            "C:\\Users\\User\\AppData\\Local\\Temp\\ipykernel_6504\\3548830796.py:1: FutureWarning:\n",
            "\n",
            "The default of observed=False is deprecated and will be changed to True in a future version of pandas. Pass observed=False to retain current behavior or observed=True to adopt the future default and silence this warning.\n",
            "\n"
          ]
        },
        {
          "data": {
            "text/html": [
              "<div>\n",
              "<style scoped>\n",
              "    .dataframe tbody tr th:only-of-type {\n",
              "        vertical-align: middle;\n",
              "    }\n",
              "\n",
              "    .dataframe tbody tr th {\n",
              "        vertical-align: top;\n",
              "    }\n",
              "\n",
              "    .dataframe thead th {\n",
              "        text-align: right;\n",
              "    }\n",
              "</style>\n",
              "<table border=\"1\" class=\"dataframe\">\n",
              "  <thead>\n",
              "    <tr style=\"text-align: right;\">\n",
              "      <th></th>\n",
              "      <th>casual</th>\n",
              "      <th>registered</th>\n",
              "    </tr>\n",
              "    <tr>\n",
              "      <th>year</th>\n",
              "      <th></th>\n",
              "      <th></th>\n",
              "    </tr>\n",
              "  </thead>\n",
              "  <tbody>\n",
              "    <tr>\n",
              "      <th>2011</th>\n",
              "      <td>247252</td>\n",
              "      <td>995851</td>\n",
              "    </tr>\n",
              "    <tr>\n",
              "      <th>2012</th>\n",
              "      <td>372765</td>\n",
              "      <td>1676811</td>\n",
              "    </tr>\n",
              "  </tbody>\n",
              "</table>\n",
              "</div>"
            ],
            "text/plain": [
              "      casual  registered\n",
              "year                    \n",
              "2011  247252      995851\n",
              "2012  372765     1676811"
            ]
          },
          "execution_count": 248,
          "metadata": {},
          "output_type": "execute_result"
        }
      ],
      "source": [
        "df_day.groupby(by='year')[['casual', 'registered']].sum()"
      ]
    },
    {
      "cell_type": "markdown",
      "metadata": {},
      "source": [
        "#### 4.1.3. Analisis Musim (FIX)"
      ]
    },
    {
      "cell_type": "code",
      "execution_count": 269,
      "metadata": {},
      "outputs": [
        {
          "name": "stderr",
          "output_type": "stream",
          "text": [
            "C:\\Users\\User\\AppData\\Local\\Temp\\ipykernel_6504\\2517503069.py:1: FutureWarning:\n",
            "\n",
            "The default of observed=False is deprecated and will be changed to True in a future version of pandas. Pass observed=False to retain current behavior or observed=True to adopt the future default and silence this warning.\n",
            "\n"
          ]
        },
        {
          "data": {
            "text/html": [
              "<div>\n",
              "<style scoped>\n",
              "    .dataframe tbody tr th:only-of-type {\n",
              "        vertical-align: middle;\n",
              "    }\n",
              "\n",
              "    .dataframe tbody tr th {\n",
              "        vertical-align: top;\n",
              "    }\n",
              "\n",
              "    .dataframe thead th {\n",
              "        text-align: right;\n",
              "    }\n",
              "</style>\n",
              "<table border=\"1\" class=\"dataframe\">\n",
              "  <thead>\n",
              "    <tr style=\"text-align: right;\">\n",
              "      <th></th>\n",
              "      <th>season</th>\n",
              "      <th>count_rent</th>\n",
              "    </tr>\n",
              "  </thead>\n",
              "  <tbody>\n",
              "    <tr>\n",
              "      <th>0</th>\n",
              "      <td>Springer</td>\n",
              "      <td>471348</td>\n",
              "    </tr>\n",
              "    <tr>\n",
              "      <th>1</th>\n",
              "      <td>Summer</td>\n",
              "      <td>918589</td>\n",
              "    </tr>\n",
              "    <tr>\n",
              "      <th>2</th>\n",
              "      <td>Fall</td>\n",
              "      <td>1061129</td>\n",
              "    </tr>\n",
              "    <tr>\n",
              "      <th>3</th>\n",
              "      <td>Winter</td>\n",
              "      <td>841613</td>\n",
              "    </tr>\n",
              "  </tbody>\n",
              "</table>\n",
              "</div>"
            ],
            "text/plain": [
              "     season  count_rent\n",
              "0  Springer      471348\n",
              "1    Summer      918589\n",
              "2      Fall     1061129\n",
              "3    Winter      841613"
            ]
          },
          "execution_count": 269,
          "metadata": {},
          "output_type": "execute_result"
        }
      ],
      "source": [
        "seasonly_users_df = df_day.groupby(\"season\").agg({\n",
        "    \"count_rent\": \"sum\"\n",
        "}).reset_index()\n",
        "seasonly_users_df"
      ]
    },
    {
      "cell_type": "markdown",
      "metadata": {},
      "source": [
        "### 4.2. Eksplorasi Data df_hour"
      ]
    },
    {
      "cell_type": "markdown",
      "metadata": {},
      "source": [
        "#### (FIX) 4.2.1. Analisis Pola Penggunaan Sepeda Per Jam"
      ]
    },
    {
      "cell_type": "code",
      "execution_count": 251,
      "metadata": {},
      "outputs": [
        {
          "data": {
            "text/html": [
              "<div>\n",
              "<style scoped>\n",
              "    .dataframe tbody tr th:only-of-type {\n",
              "        vertical-align: middle;\n",
              "    }\n",
              "\n",
              "    .dataframe tbody tr th {\n",
              "        vertical-align: top;\n",
              "    }\n",
              "\n",
              "    .dataframe thead th {\n",
              "        text-align: right;\n",
              "    }\n",
              "</style>\n",
              "<table border=\"1\" class=\"dataframe\">\n",
              "  <thead>\n",
              "    <tr style=\"text-align: right;\">\n",
              "      <th></th>\n",
              "      <th>hour</th>\n",
              "      <th>count_rent</th>\n",
              "    </tr>\n",
              "  </thead>\n",
              "  <tbody>\n",
              "    <tr>\n",
              "      <th>0</th>\n",
              "      <td>0</td>\n",
              "      <td>39130</td>\n",
              "    </tr>\n",
              "    <tr>\n",
              "      <th>1</th>\n",
              "      <td>1</td>\n",
              "      <td>24164</td>\n",
              "    </tr>\n",
              "    <tr>\n",
              "      <th>2</th>\n",
              "      <td>2</td>\n",
              "      <td>16352</td>\n",
              "    </tr>\n",
              "    <tr>\n",
              "      <th>3</th>\n",
              "      <td>3</td>\n",
              "      <td>8174</td>\n",
              "    </tr>\n",
              "    <tr>\n",
              "      <th>4</th>\n",
              "      <td>4</td>\n",
              "      <td>4428</td>\n",
              "    </tr>\n",
              "    <tr>\n",
              "      <th>5</th>\n",
              "      <td>5</td>\n",
              "      <td>14261</td>\n",
              "    </tr>\n",
              "    <tr>\n",
              "      <th>6</th>\n",
              "      <td>6</td>\n",
              "      <td>55132</td>\n",
              "    </tr>\n",
              "    <tr>\n",
              "      <th>7</th>\n",
              "      <td>7</td>\n",
              "      <td>154171</td>\n",
              "    </tr>\n",
              "    <tr>\n",
              "      <th>8</th>\n",
              "      <td>8</td>\n",
              "      <td>261001</td>\n",
              "    </tr>\n",
              "    <tr>\n",
              "      <th>9</th>\n",
              "      <td>9</td>\n",
              "      <td>159438</td>\n",
              "    </tr>\n",
              "    <tr>\n",
              "      <th>10</th>\n",
              "      <td>10</td>\n",
              "      <td>126257</td>\n",
              "    </tr>\n",
              "    <tr>\n",
              "      <th>11</th>\n",
              "      <td>11</td>\n",
              "      <td>151320</td>\n",
              "    </tr>\n",
              "    <tr>\n",
              "      <th>12</th>\n",
              "      <td>12</td>\n",
              "      <td>184414</td>\n",
              "    </tr>\n",
              "    <tr>\n",
              "      <th>13</th>\n",
              "      <td>13</td>\n",
              "      <td>184919</td>\n",
              "    </tr>\n",
              "    <tr>\n",
              "      <th>14</th>\n",
              "      <td>14</td>\n",
              "      <td>175652</td>\n",
              "    </tr>\n",
              "    <tr>\n",
              "      <th>15</th>\n",
              "      <td>15</td>\n",
              "      <td>183149</td>\n",
              "    </tr>\n",
              "    <tr>\n",
              "      <th>16</th>\n",
              "      <td>16</td>\n",
              "      <td>227748</td>\n",
              "    </tr>\n",
              "    <tr>\n",
              "      <th>17</th>\n",
              "      <td>17</td>\n",
              "      <td>336860</td>\n",
              "    </tr>\n",
              "    <tr>\n",
              "      <th>18</th>\n",
              "      <td>18</td>\n",
              "      <td>309772</td>\n",
              "    </tr>\n",
              "    <tr>\n",
              "      <th>19</th>\n",
              "      <td>19</td>\n",
              "      <td>226789</td>\n",
              "    </tr>\n",
              "    <tr>\n",
              "      <th>20</th>\n",
              "      <td>20</td>\n",
              "      <td>164550</td>\n",
              "    </tr>\n",
              "    <tr>\n",
              "      <th>21</th>\n",
              "      <td>21</td>\n",
              "      <td>125445</td>\n",
              "    </tr>\n",
              "    <tr>\n",
              "      <th>22</th>\n",
              "      <td>22</td>\n",
              "      <td>95612</td>\n",
              "    </tr>\n",
              "    <tr>\n",
              "      <th>23</th>\n",
              "      <td>23</td>\n",
              "      <td>63941</td>\n",
              "    </tr>\n",
              "  </tbody>\n",
              "</table>\n",
              "</div>"
            ],
            "text/plain": [
              "    hour  count_rent\n",
              "0      0       39130\n",
              "1      1       24164\n",
              "2      2       16352\n",
              "3      3        8174\n",
              "4      4        4428\n",
              "5      5       14261\n",
              "6      6       55132\n",
              "7      7      154171\n",
              "8      8      261001\n",
              "9      9      159438\n",
              "10    10      126257\n",
              "11    11      151320\n",
              "12    12      184414\n",
              "13    13      184919\n",
              "14    14      175652\n",
              "15    15      183149\n",
              "16    16      227748\n",
              "17    17      336860\n",
              "18    18      309772\n",
              "19    19      226789\n",
              "20    20      164550\n",
              "21    21      125445\n",
              "22    22       95612\n",
              "23    23       63941"
            ]
          },
          "execution_count": 251,
          "metadata": {},
          "output_type": "execute_result"
        }
      ],
      "source": [
        "# Mengelompokkan jumlah peminjaman per jam\n",
        "hourly_data = df_hour.groupby(\"hour\")[\"count_rent\"].sum().reset_index()\n",
        "hourly_data"
      ]
    },
    {
      "cell_type": "code",
      "execution_count": 252,
      "metadata": {},
      "outputs": [
        {
          "data": {
            "text/html": [
              "<div>\n",
              "<style scoped>\n",
              "    .dataframe tbody tr th:only-of-type {\n",
              "        vertical-align: middle;\n",
              "    }\n",
              "\n",
              "    .dataframe tbody tr th {\n",
              "        vertical-align: top;\n",
              "    }\n",
              "\n",
              "    .dataframe thead th {\n",
              "        text-align: right;\n",
              "    }\n",
              "</style>\n",
              "<table border=\"1\" class=\"dataframe\">\n",
              "  <thead>\n",
              "    <tr style=\"text-align: right;\">\n",
              "      <th></th>\n",
              "      <th>hour</th>\n",
              "      <th>count_rent</th>\n",
              "    </tr>\n",
              "  </thead>\n",
              "  <tbody>\n",
              "    <tr>\n",
              "      <th>8</th>\n",
              "      <td>8</td>\n",
              "      <td>261001</td>\n",
              "    </tr>\n",
              "    <tr>\n",
              "      <th>17</th>\n",
              "      <td>17</td>\n",
              "      <td>336860</td>\n",
              "    </tr>\n",
              "  </tbody>\n",
              "</table>\n",
              "</div>"
            ],
            "text/plain": [
              "    hour  count_rent\n",
              "8      8      261001\n",
              "17    17      336860"
            ]
          },
          "execution_count": 252,
          "metadata": {},
          "output_type": "execute_result"
        }
      ],
      "source": [
        "# Menentukan jam sibuk (morning rush dan evening rush)\n",
        "rush_hours = [8, 17]  # Pagi jam 08:00 dan sore jam 17:00\n",
        "rush_data = hourly_data[hourly_data[\"hour\"].isin(rush_hours)]\n",
        "rush_data"
      ]
    },
    {
      "cell_type": "markdown",
      "metadata": {},
      "source": [
        "**Insight:**\n",
        "- xxx\n",
        "- xxx"
      ]
    },
    {
      "cell_type": "markdown",
      "metadata": {
        "id": "zsyZjqak8DC2"
      },
      "source": [
        "## 5. Visualization & Explanatory Analysis"
      ]
    },
    {
      "cell_type": "markdown",
      "metadata": {},
      "source": [
        "Pada tahap ini, kita akan menjawab pertanyaan-pertanyaan yang telah ditentukan diatas."
      ]
    },
    {
      "cell_type": "markdown",
      "metadata": {
        "id": "HZxOiQ6n8DC2"
      },
      "source": [
        "### Pertanyaan 1: Bagaimana Tren Jumlah Penggunaan Layanan Bike-Sharing dalam Beberapa Tahun Terakhir? (DONE)"
      ]
    },
    {
      "cell_type": "code",
      "execution_count": 267,
      "metadata": {},
      "outputs": [
        {
          "data": {
            "image/png": "[encoded data removed]",
            "text/plain": [
              "<Figure size 1800x600 with 1 Axes>"
            ]
          },
          "metadata": {},
          "output_type": "display_data"
        }
      ],
      "source": [
        "# Membuat figure dan plot\n",
        "plt.figure(figsize=(18, 6))\n",
        "sns.lineplot(data=df_day, x=\"yearmonth\", y=\"casual\", label=\"Casual Riders\", color=\"gray\", marker=\"o\")\n",
        "sns.lineplot(data=df_day, x=\"yearmonth\", y=\"registered\", label=\"Registered Riders\", color=\"orange\", marker=\"o\")\n",
        "sns.lineplot(data=df_day, x=\"yearmonth\", y=\"count_rent\", label=\"Total Rides\", color=\"red\", marker=\"o\")\n",
        "\n",
        "# Konfigurasi tampilan\n",
        "plt.title(\"Tren Jumlah Peminjaman Sepeda Bulanan (2011-2012)\")\n",
        "plt.xlabel(\"Bulan-Tahun\")\n",
        "plt.ylabel(\"Jumlah Peminjam\")\n",
        "plt.legend()\n",
        "plt.xticks(rotation=45)\n",
        "\n",
        "# Menampilkan plot\n",
        "plt.show()"
      ]
    },
    {
      "cell_type": "markdown",
      "metadata": {},
      "source": [
        "- Berdasarkan hasil pengamatan grafik diatas, dapat dilihat bahwa jumlah peminjaman sepeda pada tahun 2012 meningkat lebih tinggi dibandingkan tahun 2011. Hal ini menunjukkan jumlah pengguna layanan bike-sharing meningkat dari tahun ke tahun.\n",
        "- Terdapat pola musiman dalam tren peminjaman sepeda selama dua tahun tersebut. Telihat pola pada awal tahun (Januari - Maret) peminjaman masih rendah, pada kuartal kedua (April-Juni) peminjaman mulai meningkat, pada kuartal keempat (Oktober-Desember) peminjaman mulai menurun lagi."
      ]
    },
    {
      "cell_type": "markdown",
      "metadata": {
        "id": "DgHI7CiU8DC2"
      },
      "source": [
        "### Pertanyaan 2: Apakah Peningkatan Penggunaan Layanan Bike-Sharing Berasal dari Pengguna Registered atau Casual? (FIX)"
      ]
    },
    {
      "cell_type": "code",
      "execution_count": 254,
      "metadata": {},
      "outputs": [
        {
          "name": "stderr",
          "output_type": "stream",
          "text": [
            "C:\\Users\\User\\AppData\\Local\\Temp\\ipykernel_6504\\3159468737.py:1: FutureWarning:\n",
            "\n",
            "The default of observed=False is deprecated and will be changed to True in a future version of pandas. Pass observed=False to retain current behavior or observed=True to adopt the future default and silence this warning.\n",
            "\n"
          ]
        },
        {
          "data": {
            "image/png": "[encoded data removed]",
            "text/plain": [
              "<Figure size 1200x600 with 1 Axes>"
            ]
          },
          "metadata": {},
          "output_type": "display_data"
        }
      ],
      "source": [
        "df_yearly_users = df_day.groupby('year', as_index=False)[['casual', 'registered']].sum()\n",
        "df_melted = df_yearly_users.melt(id_vars=\"year\", var_name=\"user_type\", value_name=\"count\")\n",
        "\n",
        "plt.figure(figsize=(12, 6))\n",
        "sns.barplot(data=df_melted, x=\"year\", y=\"count\", hue=\"user_type\",\n",
        "               palette={\"casual\": \"salmon\", \"registered\": \"red\"}, alpha=0.9)\n",
        "plt.xlabel(\"Tahun\")\n",
        "plt.ylabel(\"Jumlah Peminjaman\")\n",
        "plt.title(\"Tren Peminjaman Sepeda: Casual vs Registered\")\n",
        "plt.legend(title=\"Tipe Pengguna\", fontsize=8)\n",
        "plt.show()"
      ]
    },
    {
      "cell_type": "markdown",
      "metadata": {},
      "source": [
        "### Pertanyaan 3: Bagaimana Pola Penggunaan Layanan Bike-Sharing Berdasarkan Waktu Dalam Sehari? (DONE)"
      ]
    },
    {
      "cell_type": "code",
      "execution_count": 268,
      "metadata": {},
      "outputs": [
        {
          "data": {
            "image/png": "[encoded data removed]",
            "text/plain": [
              "<Figure size 1800x600 with 1 Axes>"
            ]
          },
          "metadata": {},
          "output_type": "display_data"
        }
      ],
      "source": [
        "plt.figure(figsize=(18, 6))\n",
        "sns.barplot(x=\"hour\", y=\"count_rent\", data=hourly_data, color='#D3D3D3')\n",
        "sns.barplot(x=\"hour\", y=\"count_rent\", data=rush_data, color=\"red\", label=\"Rush Hours (08:00 & 17:00)\")\n",
        "\n",
        "# Menambahkan garis vertikal untuk menandai jam sibuk\n",
        "plt.axvline(x=8, color='gray', linestyle='--')\n",
        "plt.axvline(x=17, color='gray', linestyle='--')\n",
        "\n",
        "# Menambahkan label dan judul\n",
        "plt.xlabel(\"Jam\")\n",
        "plt.ylabel(\"Total Pengguna Bike-Sharing\")\n",
        "plt.title(\"Jumlah Pengguna Layanan Bike-Sharing Per Jam (2011-2012)\")\n",
        "\n",
        "plt.xticks(np.arange(0, 24, 1))\n",
        "plt.legend(loc='upper right', fontsize=12)\n",
        "plt.show()"
      ]
    },
    {
      "cell_type": "markdown",
      "metadata": {},
      "source": [
        "Berdasarkan hasil pengamatan pada grafik diatas, terlihat sangat jelas bahwa pola penggunaan layanan bike-sharing berdasarkan jam dalam sehari. Jumlah peminjaman sepeda mencapai puncaknya pada pukul 08.00 dan 17.00. Hal ini menunjukkan sebagian besar pengguna menggunakan sepeda untuk berangkat dan pulang kerja."
      ]
    },
    {
      "cell_type": "markdown",
      "metadata": {},
      "source": [
        "### Pertanyaan 4: Seberapa Berpengaruh Musim Terhadap Peningkatan Jumlah Penggunaan Layanan Bike-Sharing? (DONE)"
      ]
    },
    {
      "cell_type": "code",
      "execution_count": 266,
      "metadata": {},
      "outputs": [
        {
          "data": {
            "text/plain": [
              "'Fall'"
            ]
          },
          "execution_count": 266,
          "metadata": {},
          "output_type": "execute_result"
        }
      ],
      "source": [
        "# Menentukan musim dengan jumlah peminjaman tertinggi\n",
        "max_season = seasonly_users_df.loc[seasonly_users_df[\"count_rent\"].idxmax(), \"season\"]\n",
        "max_season"
      ]
    },
    {
      "cell_type": "code",
      "execution_count": null,
      "metadata": {},
      "outputs": [
        {
          "name": "stderr",
          "output_type": "stream",
          "text": [
            "C:\\Users\\User\\AppData\\Local\\Temp\\ipykernel_6504\\1255622653.py:9: FutureWarning:\n",
            "\n",
            "\n",
            "\n",
            "Passing `palette` without assigning `hue` is deprecated and will be removed in v0.14.0. Assign the `x` variable to `hue` and set `legend=False` for the same effect.\n",
            "\n",
            "\n"
          ]
        },
        {
          "data": {
            "image/png": "[encoded data removed]",
            "text/plain": [
              "<Figure size 1200x500 with 1 Axes>"
            ]
          },
          "metadata": {},
          "output_type": "display_data"
        }
      ],
      "source": [
        "# Buat warna untuk setiap musim (warna berbeda untuk musim tertinggi)\n",
        "colors = [\"#D3D3D3\" if season != max_season else \"red\" for season in seasonly_users_df[\"season\"]]\n",
        "\n",
        "# Plot\n",
        "plt.figure(figsize=(12, 5))\n",
        "sns.barplot(x=\"season\", y=\"count_rent\", data=seasonly_users_df, palette=colors)\n",
        "\n",
        "plt.xlabel(\"Season\")\n",
        "plt.ylabel(\"Total Rentals\")\n",
        "plt.title(\"Total Bike Rentals per Season\")\n",
        "plt.show()"
      ]
    },
    {
      "cell_type": "markdown",
      "metadata": {},
      "source": [
        "Berdasarkan hasil pengamatan dari grafik diatas, dapat kita lihat jumlah peminjaman sepeda paling tinggi terjadi saat musim gugur (Fall). Hal ini menunjukkan bahwa penggunaan sepeda cenderung mencapai puncaknya di musim gugur, kemungkinan karena kondisi cuaca yang mendukung."
      ]
    },
    {
      "cell_type": "markdown",
      "metadata": {
        "id": "_0-36BDLklRg"
      },
      "source": [
        "**Insight:**\n",
        "- xxx\n",
        "- xxx"
      ]
    },
    {
      "cell_type": "markdown",
      "metadata": {
        "id": "9y4VUsmcYNZ5"
      },
      "source": [
        "## 6. Menerapkan Analisis Lanjutan"
      ]
    },
    {
      "cell_type": "markdown",
      "metadata": {},
      "source": [
        "### 1. Analisis RFM"
      ]
    },
    {
      "cell_type": "markdown",
      "metadata": {},
      "source": [
        "Analisis RFM ini bertujuan untuk mengelompokkan pelanggan berdasarkan perilaku pembelian pelanggan dengan memperhatikan tiga faktor utama:\n",
        "- Recency: Menghitung jumlah hari sejak terakhir kali pelanggan melakukan pembelian.\n",
        "- Frequency: Menghitung jumlah total transaksi yang dilakukan oleh pelanggan dalam periode tertentu.\n",
        "- Monetary: Menghitung total pengeluaran pelanggan dalam periode tersebut."
      ]
    },
    {
      "cell_type": "code",
      "execution_count": 256,
      "metadata": {},
      "outputs": [
        {
          "name": "stdout",
          "output_type": "stream",
          "text": [
            "   registered  Recency  Frequency  Monetary\n",
            "0           0       38         24        35\n",
            "1           1        0        201       294\n",
            "2           2        1        245       648\n",
            "3           3        0        294      1154\n",
            "4           4        3        307      1602\n"
          ]
        }
      ],
      "source": [
        "current_date = max(df_hour['date'])\n",
        "rfm_df = df_hour.groupby('registered').agg({\n",
        "    'date': lambda x: (current_date - x.max()).days,    # Recency\n",
        "    'instant': 'count',                                 # Frequency\n",
        "    'count_rent': 'sum'                                 # Monetary\n",
        "}).reset_index()\n",
        "\n",
        "# Mengganti nama kolom\n",
        "rfm_df.columns = ['registered', 'Recency', 'Frequency', 'Monetary']\n",
        "\n",
        "print(rfm_df.head())"
      ]
    },
    {
      "cell_type": "markdown",
      "metadata": {},
      "source": [
        "### 2. Analisis Clustering"
      ]
    },
    {
      "cell_type": "markdown",
      "metadata": {},
      "source": [
        "Analisis Clustering ini bertujuan untuk mengelompokkan data ke dalam grup berdasarkan karakteristik tertentu."
      ]
    },
    {
      "cell_type": "markdown",
      "metadata": {
        "id": "_WeHlCeX8DC2"
      },
      "source": [
        "## Conclusion"
      ]
    },
    {
      "cell_type": "markdown",
      "metadata": {
        "id": "ZTcyR48Y8DC2"
      },
      "source": [
        "- Conclution pertanyaan 1\n",
        "- Conclution pertanyaan 2"
      ]
    }
  ],
  "metadata": {
    "colab": {
      "provenance": []
    },
    "kernelspec": {
      "display_name": "datascience",
      "language": "python",
      "name": "python3"
    },
    "language_info": {
      "codemirror_mode": {
        "name": "ipython",
        "version": 3
      },
      "file_extension": ".py",
      "mimetype": "text/x-python",
      "name": "python",
      "nbconvert_exporter": "python",
      "pygments_lexer": "ipython3",
      "version": "3.12.2"
    },
    "orig_nbformat": 4
  },
  "nbformat": 4,
  "nbformat_minor": 0
}
